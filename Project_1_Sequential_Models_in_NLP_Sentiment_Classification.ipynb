{
  "nbformat": 4,
  "nbformat_minor": 0,
  "metadata": {
    "accelerator": "GPU",
    "colab": {
      "name": "Questions - Project 1 - Sequential Models in NLP - Sentiment Classification.ipynb",
      "provenance": [],
      "collapsed_sections": []
    },
    "kernelspec": {
      "display_name": "Python 3",
      "language": "python",
      "name": "python3"
    },
    "language_info": {
      "codemirror_mode": {
        "name": "ipython",
        "version": 3
      },
      "file_extension": ".py",
      "mimetype": "text/x-python",
      "name": "python",
      "nbconvert_exporter": "python",
      "pygments_lexer": "ipython3",
      "version": "3.7.1"
    }
  },
  "cells": [
    {
      "cell_type": "markdown",
      "metadata": {
        "id": "WXaFSkUu0fzm"
      },
      "source": [
        "![alt text](https://drive.google.com/uc?export=view&id=1UXScsVx_Wni_JuDdB8LeTnM6jsPfIwkW)\n",
        "\n",
        "Proprietary content. © Great Learning. All Rights Reserved. Unauthorized use or distribution prohibited."
      ]
    },
    {
      "cell_type": "markdown",
      "metadata": {
        "id": "OudB5by50jlI"
      },
      "source": [
        "# Sentiment Classification"
      ]
    },
    {
      "cell_type": "markdown",
      "metadata": {
        "id": "xT7MKZuMRaCg"
      },
      "source": [
        "### Dataset\n",
        "- Dataset of 50,000 movie reviews from IMDB, labeled by sentiment positive (1) or negative (0)\n",
        "- Reviews have been preprocessed, and each review is encoded as a sequence of word indexes (integers).\n",
        "- For convenience, words are indexed by overall frequency in the dataset, so that for instance the integer \"3\" encodes the 3rd most frequent word in the data. This allows for quick filtering operations such as: \"only consider the top 10,000 most common words, but eliminate the top 20 most common words\".\n",
        "- As a convention, \"0\" does not stand for a specific word, but instead is used to encode any unknown word.\n",
        "\n",
        "Command to import data\n",
        "- `from tensorflow.keras.datasets import imdb`"
      ]
    },
    {
      "cell_type": "markdown",
      "metadata": {
        "id": "Q34-Y3nRKXdO"
      },
      "source": [
        "### Import the data (4 Marks)\n",
        "- Use `imdb.load_data()` method\n",
        "- Get train and test set\n",
        "- Take 10000 most frequent words"
      ]
    },
    {
      "cell_type": "code",
      "metadata": {
        "id": "JxfwbrbuKbk2"
      },
      "source": [
        "import numpy as np\n",
        "import matplotlib.pyplot as plt\n",
        "%matplotlib inline\n",
        "import tensorflow as tf\n",
        "import warnings\n",
        "warnings.filterwarnings('ignore')\n",
        "\n",
        "from keras import models, regularizers, layers, optimizers, losses, metrics\n",
        "from keras.models import Sequential\n",
        "from keras.preprocessing import sequence  \n",
        "from keras.layers import Dense, Flatten, Embedding, LSTM, TimeDistributed\n",
        "from keras.optimizers import Adam\n",
        "from keras.datasets import imdb"
      ],
      "execution_count": 1,
      "outputs": []
    },
    {
      "cell_type": "code",
      "metadata": {
        "id": "0av3iHfYbeYN"
      },
      "source": [
        "(X_train, y_train), (X_test, y_test) = imdb.load_data(path='imdb.npz', num_words=10000, skip_top=0, maxlen=None, seed=113,\n",
        "    start_char=1, oov_char=2, index_from=3)"
      ],
      "execution_count": 2,
      "outputs": []
    },
    {
      "cell_type": "code",
      "metadata": {
        "colab": {
          "base_uri": "https://localhost:8080/"
        },
        "id": "-e9ou2_leAGl",
        "outputId": "6cd26c97-2d05-40de-f748-007b83ac8897"
      },
      "source": [
        "print(X_train.shape)\n",
        "print(X_test.shape)"
      ],
      "execution_count": 3,
      "outputs": [
        {
          "output_type": "stream",
          "text": [
            "(25000,)\n",
            "(25000,)\n"
          ],
          "name": "stdout"
        }
      ]
    },
    {
      "cell_type": "markdown",
      "metadata": {
        "id": "DldivBO4LTbP"
      },
      "source": [
        "### Pad each sentence to be of same length (4 Marks)\n",
        "- Take maximum sequence length as 300"
      ]
    },
    {
      "cell_type": "code",
      "metadata": {
        "id": "E808XB4tLtic"
      },
      "source": [
        "X_train = sequence.pad_sequences(X_train, maxlen=300, dtype='int32', padding='pre', truncating='pre',value=0.0)\n",
        "X_test =  sequence.pad_sequences(X_test, maxlen=300, dtype='int32', padding='pre', truncating='pre',value=0.0)"
      ],
      "execution_count": 4,
      "outputs": []
    },
    {
      "cell_type": "markdown",
      "metadata": {
        "id": "JBFFCrybMSXz"
      },
      "source": [
        "### Print shape of features & labels (4 Marks)"
      ]
    },
    {
      "cell_type": "markdown",
      "metadata": {
        "id": "qOcyRtZfMYZd"
      },
      "source": [
        "Number of review, number of words in each review"
      ]
    },
    {
      "cell_type": "code",
      "metadata": {
        "id": "hdMCUPr7RaCm"
      },
      "source": [
        "data = np.concatenate((X_train, X_test), axis=0)\n",
        "targets = np.concatenate((y_train, y_test), axis=0)\n"
      ],
      "execution_count": 5,
      "outputs": []
    },
    {
      "cell_type": "code",
      "metadata": {
        "colab": {
          "base_uri": "https://localhost:8080/"
        },
        "id": "mXACNO5yQFk3",
        "outputId": "8f2f3318-38bd-4d0a-9977-8824fb377de9"
      },
      "source": [
        "print('Total Number of reviews :',data.shape[0])"
      ],
      "execution_count": 6,
      "outputs": [
        {
          "output_type": "stream",
          "text": [
            "Total Number of reviews : 50000\n"
          ],
          "name": "stdout"
        }
      ]
    },
    {
      "cell_type": "code",
      "metadata": {
        "id": "eGVHeKOWyJiG",
        "colab": {
          "base_uri": "https://localhost:8080/"
        },
        "outputId": "2f097a64-77ee-495f-c1a0-eaffc600ccf5"
      },
      "source": [
        "print('Number of words in each review: ',data.shape[1])"
      ],
      "execution_count": 7,
      "outputs": [
        {
          "output_type": "stream",
          "text": [
            "Number of words in each review:  300\n"
          ],
          "name": "stdout"
        }
      ]
    },
    {
      "cell_type": "markdown",
      "metadata": {
        "id": "5cNk5sDvMr3j"
      },
      "source": [
        "Number of labels"
      ]
    },
    {
      "cell_type": "code",
      "metadata": {
        "id": "6Z00-mYgMoKv",
        "colab": {
          "base_uri": "https://localhost:8080/"
        },
        "outputId": "9f9fd679-4cbc-4088-dcb0-57d968251c58"
      },
      "source": [
        "print(\"Labels: \",np.unique(targets))"
      ],
      "execution_count": 8,
      "outputs": [
        {
          "output_type": "stream",
          "text": [
            "Labels:  [0 1]\n"
          ],
          "name": "stdout"
        }
      ]
    },
    {
      "cell_type": "code",
      "metadata": {
        "id": "H7f5tPeaMxti",
        "colab": {
          "base_uri": "https://localhost:8080/"
        },
        "outputId": "be902010-e38d-4040-d940-9c11a02a221d"
      },
      "source": [
        "print('Number of labels: ',targets.shape[0])"
      ],
      "execution_count": 9,
      "outputs": [
        {
          "output_type": "stream",
          "text": [
            "Number of labels:  50000\n"
          ],
          "name": "stdout"
        }
      ]
    },
    {
      "cell_type": "markdown",
      "metadata": {
        "id": "NdXPWuOmNEbh"
      },
      "source": [
        "### Print value of any one feature and it's label (4 Marks)"
      ]
    },
    {
      "cell_type": "markdown",
      "metadata": {
        "id": "MGLEdeFmNZfR"
      },
      "source": [
        "Feature value"
      ]
    },
    {
      "cell_type": "code",
      "metadata": {
        "id": "RKFyMa28zztL",
        "colab": {
          "base_uri": "https://localhost:8080/"
        },
        "outputId": "595f9e25-a517-4723-8c1c-f86b2a6987d3"
      },
      "source": [
        "print(X_train[1])"
      ],
      "execution_count": 10,
      "outputs": [
        {
          "output_type": "stream",
          "text": [
            "[   0    0    0    0    0    0    0    0    0    0    0    0    0    0\n",
            "    0    0    0    0    0    0    0    0    0    0    0    0    0    0\n",
            "    0    0    0    0    0    0    0    0    0    0    0    0    0    0\n",
            "    0    0    0    0    0    0    0    0    0    0    0    0    0    0\n",
            "    0    0    0    0    0    0    0    0    0    0    0    0    0    0\n",
            "    0    0    0    0    0    0    0    0    0    0    0    0    0    0\n",
            "    0    0    0    0    0    0    0    0    0    0    0    0    0    0\n",
            "    0    0    0    0    0    0    0    0    0    0    0    0    0    1\n",
            "  194 1153  194 8255   78  228    5    6 1463 4369 5012  134   26    4\n",
            "  715    8  118 1634   14  394   20   13  119  954  189  102    5  207\n",
            "  110 3103   21   14   69  188    8   30   23    7    4  249  126   93\n",
            "    4  114    9 2300 1523    5  647    4  116    9   35 8163    4  229\n",
            "    9  340 1322    4  118    9    4  130 4901   19    4 1002    5   89\n",
            "   29  952   46   37    4  455    9   45   43   38 1543 1905  398    4\n",
            " 1649   26 6853    5  163   11 3215    2    4 1153    9  194  775    7\n",
            " 8255    2  349 2637  148  605    2 8003   15  123  125   68    2 6853\n",
            "   15  349  165 4362   98    5    4  228    9   43    2 1157   15  299\n",
            "  120    5  120  174   11  220  175  136   50    9 4373  228 8255    5\n",
            "    2  656  245 2350    5    4 9837  131  152  491   18    2   32 7464\n",
            " 1212   14    9    6  371   78   22  625   64 1382    9    8  168  145\n",
            "   23    4 1690   15   16    4 1355    5   28    6   52  154  462   33\n",
            "   89   78  285   16  145   95]\n"
          ],
          "name": "stdout"
        }
      ]
    },
    {
      "cell_type": "markdown",
      "metadata": {
        "id": "h_85Hqm0Nb1I"
      },
      "source": [
        "Label value"
      ]
    },
    {
      "cell_type": "code",
      "metadata": {
        "id": "-FoehB5jNd1g",
        "colab": {
          "base_uri": "https://localhost:8080/"
        },
        "outputId": "9f5d6e30-6183-4444-aaea-6dce6adf5910"
      },
      "source": [
        "print(y_train[1])"
      ],
      "execution_count": 11,
      "outputs": [
        {
          "output_type": "stream",
          "text": [
            "0\n"
          ],
          "name": "stdout"
        }
      ]
    },
    {
      "cell_type": "markdown",
      "metadata": {
        "id": "0cof4LSxNxuv"
      },
      "source": [
        "### Decode the feature value to get original sentence (4 Marks)"
      ]
    },
    {
      "cell_type": "markdown",
      "metadata": {
        "id": "Q_oiAyPZOkJD"
      },
      "source": [
        "First, retrieve a dictionary that contains mapping of words to their index in the IMDB dataset"
      ]
    },
    {
      "cell_type": "code",
      "metadata": {
        "id": "Clsk-yK8OtzD"
      },
      "source": [
        "word_index = imdb.get_word_index(path='imdb_word_index.json')\n"
      ],
      "execution_count": 12,
      "outputs": []
    },
    {
      "cell_type": "markdown",
      "metadata": {
        "id": "NRgOD5S2Uuvd"
      },
      "source": [
        "Now use the dictionary to get the original words from the encodings, for a particular sentence"
      ]
    },
    {
      "cell_type": "code",
      "metadata": {
        "id": "zJ504QDORwxj",
        "colab": {
          "base_uri": "https://localhost:8080/"
        },
        "outputId": "3b182023-a08d-4195-f67c-fd5e83ce211a"
      },
      "source": [
        "reverse_word_index = dict([(value, key) for (key, value) in word_index.items()])\n",
        "\n",
        "decoded_review = \" \".join([reverse_word_index.get(i - 3, '#') for i in X_train[0]])\n",
        "\n",
        "print(decoded_review)"
      ],
      "execution_count": 13,
      "outputs": [
        {
          "output_type": "stream",
          "text": [
            "# # # # # # # # # # # # # # # # # # # # # # # # # # # # # # # # # # # # # # # # # # # # # # # # # # # # # # # # # # # # # # # # # # # # # # # # # # # # # # # # # # # this film was just brilliant casting location scenery story direction everyone's really suited the part they played and you could just imagine being there robert # is an amazing actor and now the same being director # father came from the same scottish island as myself so i loved the fact there was a real connection with this film the witty remarks throughout the film were great it was just brilliant so much that i bought the film as soon as it was released for # and would recommend it to everyone to watch and the fly fishing was amazing really cried at the end it was so sad and you know what they say if you cry at a film it must have been good and this definitely was also # to the two little boy's that played the # of norman and paul they were just brilliant children are often left out of the # list i think because the stars that play them all grown up are such a big profile for the whole film but these children are amazing and should be praised for what they have done don't you think the whole story was so lovely because it was true and was someone's life after all that was shared with us all\n"
          ],
          "name": "stdout"
        }
      ]
    },
    {
      "cell_type": "markdown",
      "metadata": {
        "id": "WLGABrJoVZe6"
      },
      "source": [
        "Get the sentiment for the above sentence\n",
        "- positive (1)\n",
        "- negative (0)"
      ]
    },
    {
      "cell_type": "code",
      "metadata": {
        "id": "XDyQGJT0Ve-a",
        "colab": {
          "base_uri": "https://localhost:8080/"
        },
        "outputId": "d56f54d8-6eba-4fed-ab99-f8c11ae0ed56"
      },
      "source": [
        "if y_train[0] == 1:\n",
        "  print('Positive Review')\n",
        "else:\n",
        "  print('Negative Review')"
      ],
      "execution_count": 14,
      "outputs": [
        {
          "output_type": "stream",
          "text": [
            "Positive Review\n"
          ],
          "name": "stdout"
        }
      ]
    },
    {
      "cell_type": "markdown",
      "metadata": {
        "id": "BmCjr8miXIWB"
      },
      "source": [
        "### Define model (10 Marks)\n",
        "- Define a Sequential Model\n",
        "- Add Embedding layer\n",
        "  - Embedding layer turns positive integers into dense vectors of fixed size\n",
        "  - `tensorflow.keras` embedding layer doesn't require us to onehot encode our words, instead we have to give each word a unique integer number as an id. For the imdb dataset we've loaded this has already been done, but if this wasn't the case we could use sklearn LabelEncoder.\n",
        "  - Size of the vocabulary will be 10000\n",
        "  - Give dimension of the dense embedding as 100\n",
        "  - Length of input sequences should be 300\n",
        "- Add LSTM layer\n",
        "  - Pass value in `return_sequences` as True\n",
        "- Add a `TimeDistributed` layer with 100 Dense neurons\n",
        "- Add Flatten layer\n",
        "- Add Dense layer"
      ]
    },
    {
      "cell_type": "code",
      "metadata": {
        "id": "Np5GxT1caFEq"
      },
      "source": [
        "model = Sequential()\n",
        "model.add(Embedding(input_dim=10000,\n",
        "                    output_dim=100,\n",
        "                    input_length=300,\n",
        "                    name='layer_embedding'))\n",
        "model.add(LSTM(units=16, return_sequences=True))\n",
        "model.add(TimeDistributed(Dense(100)))\n",
        "model.add(Flatten())\n",
        "model.add(Dense(1, activation='sigmoid'))\n"
      ],
      "execution_count": 15,
      "outputs": []
    },
    {
      "cell_type": "markdown",
      "metadata": {
        "id": "Hc4bknOobDby"
      },
      "source": [
        "### Compile the model (4 Marks)\n",
        "- Use Optimizer as Adam\n",
        "- Use Binary Crossentropy as loss\n",
        "- Use Accuracy as metrics"
      ]
    },
    {
      "cell_type": "code",
      "metadata": {
        "id": "jw4RJ0CQbwFY"
      },
      "source": [
        "model.compile(loss='binary_crossentropy',\n",
        "              optimizer=Adam(lr=1e-3),\n",
        "              metrics=['accuracy'])"
      ],
      "execution_count": 16,
      "outputs": []
    },
    {
      "cell_type": "markdown",
      "metadata": {
        "id": "8sEzwazqbz3T"
      },
      "source": [
        "### Print model summary (4 Marks)"
      ]
    },
    {
      "cell_type": "code",
      "metadata": {
        "id": "6Hx1yxwlb2Ue",
        "colab": {
          "base_uri": "https://localhost:8080/"
        },
        "outputId": "a37b08ab-d14a-45fc-e802-2503e6fd4eab"
      },
      "source": [
        "model.summary()"
      ],
      "execution_count": 17,
      "outputs": [
        {
          "output_type": "stream",
          "text": [
            "Model: \"sequential\"\n",
            "_________________________________________________________________\n",
            "Layer (type)                 Output Shape              Param #   \n",
            "=================================================================\n",
            "layer_embedding (Embedding)  (None, 300, 100)          1000000   \n",
            "_________________________________________________________________\n",
            "lstm (LSTM)                  (None, 300, 16)           7488      \n",
            "_________________________________________________________________\n",
            "time_distributed (TimeDistri (None, 300, 100)          1700      \n",
            "_________________________________________________________________\n",
            "flatten (Flatten)            (None, 30000)             0         \n",
            "_________________________________________________________________\n",
            "dense_1 (Dense)              (None, 1)                 30001     \n",
            "=================================================================\n",
            "Total params: 1,039,189\n",
            "Trainable params: 1,039,189\n",
            "Non-trainable params: 0\n",
            "_________________________________________________________________\n"
          ],
          "name": "stdout"
        }
      ]
    },
    {
      "cell_type": "markdown",
      "metadata": {
        "id": "bmkolKP4b-U6"
      },
      "source": [
        "### Fit the model (4 Marks)"
      ]
    },
    {
      "cell_type": "code",
      "metadata": {
        "id": "vRg3KFXLcAkk",
        "colab": {
          "base_uri": "https://localhost:8080/"
        },
        "outputId": "81c9cada-cab0-4ac3-fe52-ec714f753513"
      },
      "source": [
        "%%time\n",
        "model.fit(X_train, y_train, epochs=10, batch_size=64)"
      ],
      "execution_count": 18,
      "outputs": [
        {
          "output_type": "stream",
          "text": [
            "Epoch 1/10\n",
            "391/391 [==============================] - 9s 23ms/step - loss: 0.3511 - accuracy: 0.8386\n",
            "Epoch 2/10\n",
            "391/391 [==============================] - 9s 22ms/step - loss: 0.1826 - accuracy: 0.9291\n",
            "Epoch 3/10\n",
            "391/391 [==============================] - 9s 22ms/step - loss: 0.0886 - accuracy: 0.9687\n",
            "Epoch 4/10\n",
            "391/391 [==============================] - 9s 22ms/step - loss: 0.0276 - accuracy: 0.9908\n",
            "Epoch 5/10\n",
            "391/391 [==============================] - 9s 22ms/step - loss: 0.0116 - accuracy: 0.9960\n",
            "Epoch 6/10\n",
            "391/391 [==============================] - 9s 22ms/step - loss: 0.0150 - accuracy: 0.9949\n",
            "Epoch 7/10\n",
            "391/391 [==============================] - 9s 24ms/step - loss: 0.0098 - accuracy: 0.9968\n",
            "Epoch 8/10\n",
            "391/391 [==============================] - 9s 23ms/step - loss: 0.0137 - accuracy: 0.9947\n",
            "Epoch 9/10\n",
            "391/391 [==============================] - 9s 22ms/step - loss: 0.0121 - accuracy: 0.9957\n",
            "Epoch 10/10\n",
            "391/391 [==============================] - 9s 22ms/step - loss: 0.0087 - accuracy: 0.9968\n",
            "CPU times: user 1min 48s, sys: 6.22 s, total: 1min 54s\n",
            "Wall time: 1min 31s\n"
          ],
          "name": "stdout"
        },
        {
          "output_type": "execute_result",
          "data": {
            "text/plain": [
              "<tensorflow.python.keras.callbacks.History at 0x7f37193e3b70>"
            ]
          },
          "metadata": {
            "tags": []
          },
          "execution_count": 18
        }
      ]
    },
    {
      "cell_type": "markdown",
      "metadata": {
        "id": "bwLl54MXnkEA"
      },
      "source": [
        "### Evaluate model (4 Marks)"
      ]
    },
    {
      "cell_type": "code",
      "metadata": {
        "id": "EUqY-bD8RaDR",
        "colab": {
          "base_uri": "https://localhost:8080/"
        },
        "outputId": "d2caf06d-2b50-4175-893f-78548cfd6fe0"
      },
      "source": [
        "%%time\n",
        "result = model.evaluate(X_test, y_test)\n",
        "print(\"Accuracy: {0:.2%}\".format(result[1]))"
      ],
      "execution_count": 19,
      "outputs": [
        {
          "output_type": "stream",
          "text": [
            "782/782 [==============================] - 5s 7ms/step - loss: 1.0905 - accuracy: 0.8509\n",
            "Accuracy: 85.09%\n",
            "CPU times: user 5.89 s, sys: 306 ms, total: 6.19 s\n",
            "Wall time: 5.7 s\n"
          ],
          "name": "stdout"
        }
      ]
    },
    {
      "cell_type": "markdown",
      "metadata": {
        "id": "h2amr1tJn9Jz"
      },
      "source": [
        "### Predict on one sample (4 Marks)"
      ]
    },
    {
      "cell_type": "code",
      "metadata": {
        "id": "Wl4idfWR_A8E"
      },
      "source": [
        "y_pred = model.predict(x=X_test[100:])\n"
      ],
      "execution_count": 20,
      "outputs": []
    },
    {
      "cell_type": "code",
      "metadata": {
        "id": "pdbXlqq17W6a",
        "colab": {
          "base_uri": "https://localhost:8080/"
        },
        "outputId": "f4f1a16f-83ec-4dde-b28f-5cb6e06c7b87"
      },
      "source": [
        "if y_pred[1] > 0.5:\n",
        "  print('Positive Review')\n",
        "else:\n",
        "  print('Negative Review')"
      ],
      "execution_count": 21,
      "outputs": [
        {
          "output_type": "stream",
          "text": [
            "Negative Review\n"
          ],
          "name": "stdout"
        }
      ]
    }
  ]
}