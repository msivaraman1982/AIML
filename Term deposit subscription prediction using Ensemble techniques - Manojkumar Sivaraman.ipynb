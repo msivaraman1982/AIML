{
 "cells": [
  {
   "cell_type": "code",
   "execution_count": 1,
   "metadata": {},
   "outputs": [],
   "source": [
    "import pandas as pd\n",
    "import numpy as np\n",
    "import seaborn as sns\n",
    "import matplotlib.pyplot as plt\n",
    "%matplotlib inline"
   ]
  },
  {
   "cell_type": "code",
   "execution_count": 2,
   "metadata": {},
   "outputs": [],
   "source": [
    "bank_data=pd.read_csv('bank-full.csv')"
   ]
  },
  {
   "cell_type": "code",
   "execution_count": 3,
   "metadata": {
    "scrolled": true
   },
   "outputs": [
    {
     "data": {
      "text/html": [
       "<div>\n",
       "<style scoped>\n",
       "    .dataframe tbody tr th:only-of-type {\n",
       "        vertical-align: middle;\n",
       "    }\n",
       "\n",
       "    .dataframe tbody tr th {\n",
       "        vertical-align: top;\n",
       "    }\n",
       "\n",
       "    .dataframe thead th {\n",
       "        text-align: right;\n",
       "    }\n",
       "</style>\n",
       "<table border=\"1\" class=\"dataframe\">\n",
       "  <thead>\n",
       "    <tr style=\"text-align: right;\">\n",
       "      <th></th>\n",
       "      <th>age</th>\n",
       "      <th>job</th>\n",
       "      <th>marital</th>\n",
       "      <th>education</th>\n",
       "      <th>default</th>\n",
       "      <th>balance</th>\n",
       "      <th>housing</th>\n",
       "      <th>loan</th>\n",
       "      <th>contact</th>\n",
       "      <th>day</th>\n",
       "      <th>month</th>\n",
       "      <th>duration</th>\n",
       "      <th>campaign</th>\n",
       "      <th>pdays</th>\n",
       "      <th>previous</th>\n",
       "      <th>poutcome</th>\n",
       "      <th>Target</th>\n",
       "    </tr>\n",
       "  </thead>\n",
       "  <tbody>\n",
       "    <tr>\n",
       "      <td>0</td>\n",
       "      <td>58</td>\n",
       "      <td>management</td>\n",
       "      <td>married</td>\n",
       "      <td>tertiary</td>\n",
       "      <td>no</td>\n",
       "      <td>2143</td>\n",
       "      <td>yes</td>\n",
       "      <td>no</td>\n",
       "      <td>unknown</td>\n",
       "      <td>5</td>\n",
       "      <td>may</td>\n",
       "      <td>261</td>\n",
       "      <td>1</td>\n",
       "      <td>-1</td>\n",
       "      <td>0</td>\n",
       "      <td>unknown</td>\n",
       "      <td>no</td>\n",
       "    </tr>\n",
       "    <tr>\n",
       "      <td>1</td>\n",
       "      <td>44</td>\n",
       "      <td>technician</td>\n",
       "      <td>single</td>\n",
       "      <td>secondary</td>\n",
       "      <td>no</td>\n",
       "      <td>29</td>\n",
       "      <td>yes</td>\n",
       "      <td>no</td>\n",
       "      <td>unknown</td>\n",
       "      <td>5</td>\n",
       "      <td>may</td>\n",
       "      <td>151</td>\n",
       "      <td>1</td>\n",
       "      <td>-1</td>\n",
       "      <td>0</td>\n",
       "      <td>unknown</td>\n",
       "      <td>no</td>\n",
       "    </tr>\n",
       "    <tr>\n",
       "      <td>2</td>\n",
       "      <td>33</td>\n",
       "      <td>entrepreneur</td>\n",
       "      <td>married</td>\n",
       "      <td>secondary</td>\n",
       "      <td>no</td>\n",
       "      <td>2</td>\n",
       "      <td>yes</td>\n",
       "      <td>yes</td>\n",
       "      <td>unknown</td>\n",
       "      <td>5</td>\n",
       "      <td>may</td>\n",
       "      <td>76</td>\n",
       "      <td>1</td>\n",
       "      <td>-1</td>\n",
       "      <td>0</td>\n",
       "      <td>unknown</td>\n",
       "      <td>no</td>\n",
       "    </tr>\n",
       "    <tr>\n",
       "      <td>3</td>\n",
       "      <td>47</td>\n",
       "      <td>blue-collar</td>\n",
       "      <td>married</td>\n",
       "      <td>unknown</td>\n",
       "      <td>no</td>\n",
       "      <td>1506</td>\n",
       "      <td>yes</td>\n",
       "      <td>no</td>\n",
       "      <td>unknown</td>\n",
       "      <td>5</td>\n",
       "      <td>may</td>\n",
       "      <td>92</td>\n",
       "      <td>1</td>\n",
       "      <td>-1</td>\n",
       "      <td>0</td>\n",
       "      <td>unknown</td>\n",
       "      <td>no</td>\n",
       "    </tr>\n",
       "    <tr>\n",
       "      <td>4</td>\n",
       "      <td>33</td>\n",
       "      <td>unknown</td>\n",
       "      <td>single</td>\n",
       "      <td>unknown</td>\n",
       "      <td>no</td>\n",
       "      <td>1</td>\n",
       "      <td>no</td>\n",
       "      <td>no</td>\n",
       "      <td>unknown</td>\n",
       "      <td>5</td>\n",
       "      <td>may</td>\n",
       "      <td>198</td>\n",
       "      <td>1</td>\n",
       "      <td>-1</td>\n",
       "      <td>0</td>\n",
       "      <td>unknown</td>\n",
       "      <td>no</td>\n",
       "    </tr>\n",
       "  </tbody>\n",
       "</table>\n",
       "</div>"
      ],
      "text/plain": [
       "   age           job  marital  education default  balance housing loan  \\\n",
       "0   58    management  married   tertiary      no     2143     yes   no   \n",
       "1   44    technician   single  secondary      no       29     yes   no   \n",
       "2   33  entrepreneur  married  secondary      no        2     yes  yes   \n",
       "3   47   blue-collar  married    unknown      no     1506     yes   no   \n",
       "4   33       unknown   single    unknown      no        1      no   no   \n",
       "\n",
       "   contact  day month  duration  campaign  pdays  previous poutcome Target  \n",
       "0  unknown    5   may       261         1     -1         0  unknown     no  \n",
       "1  unknown    5   may       151         1     -1         0  unknown     no  \n",
       "2  unknown    5   may        76         1     -1         0  unknown     no  \n",
       "3  unknown    5   may        92         1     -1         0  unknown     no  \n",
       "4  unknown    5   may       198         1     -1         0  unknown     no  "
      ]
     },
     "execution_count": 3,
     "metadata": {},
     "output_type": "execute_result"
    }
   ],
   "source": [
    "bank_data.head()"
   ]
  },
  {
   "cell_type": "code",
   "execution_count": 4,
   "metadata": {},
   "outputs": [
    {
     "data": {
      "text/plain": [
       "(45211, 17)"
      ]
     },
     "execution_count": 4,
     "metadata": {},
     "output_type": "execute_result"
    }
   ],
   "source": [
    "bank_data.shape"
   ]
  },
  {
   "cell_type": "code",
   "execution_count": 5,
   "metadata": {},
   "outputs": [
    {
     "name": "stdout",
     "output_type": "stream",
     "text": [
      "<class 'pandas.core.frame.DataFrame'>\n",
      "RangeIndex: 45211 entries, 0 to 45210\n",
      "Data columns (total 17 columns):\n",
      "age          45211 non-null int64\n",
      "job          45211 non-null object\n",
      "marital      45211 non-null object\n",
      "education    45211 non-null object\n",
      "default      45211 non-null object\n",
      "balance      45211 non-null int64\n",
      "housing      45211 non-null object\n",
      "loan         45211 non-null object\n",
      "contact      45211 non-null object\n",
      "day          45211 non-null int64\n",
      "month        45211 non-null object\n",
      "duration     45211 non-null int64\n",
      "campaign     45211 non-null int64\n",
      "pdays        45211 non-null int64\n",
      "previous     45211 non-null int64\n",
      "poutcome     45211 non-null object\n",
      "Target       45211 non-null object\n",
      "dtypes: int64(7), object(10)\n",
      "memory usage: 5.9+ MB\n"
     ]
    }
   ],
   "source": [
    "bank_data.info()"
   ]
  },
  {
   "cell_type": "code",
   "execution_count": 6,
   "metadata": {},
   "outputs": [
    {
     "data": {
      "text/plain": [
       "age          False\n",
       "job          False\n",
       "marital      False\n",
       "education    False\n",
       "default      False\n",
       "balance      False\n",
       "housing      False\n",
       "loan         False\n",
       "contact      False\n",
       "day          False\n",
       "month        False\n",
       "duration     False\n",
       "campaign     False\n",
       "pdays        False\n",
       "previous     False\n",
       "poutcome     False\n",
       "Target       False\n",
       "dtype: bool"
      ]
     },
     "execution_count": 6,
     "metadata": {},
     "output_type": "execute_result"
    }
   ],
   "source": [
    "bank_data.isnull().any()"
   ]
  },
  {
   "cell_type": "code",
   "execution_count": 7,
   "metadata": {},
   "outputs": [
    {
     "data": {
      "text/html": [
       "<div>\n",
       "<style scoped>\n",
       "    .dataframe tbody tr th:only-of-type {\n",
       "        vertical-align: middle;\n",
       "    }\n",
       "\n",
       "    .dataframe tbody tr th {\n",
       "        vertical-align: top;\n",
       "    }\n",
       "\n",
       "    .dataframe thead th {\n",
       "        text-align: right;\n",
       "    }\n",
       "</style>\n",
       "<table border=\"1\" class=\"dataframe\">\n",
       "  <thead>\n",
       "    <tr style=\"text-align: right;\">\n",
       "      <th></th>\n",
       "      <th>count</th>\n",
       "      <th>mean</th>\n",
       "      <th>std</th>\n",
       "      <th>min</th>\n",
       "      <th>25%</th>\n",
       "      <th>50%</th>\n",
       "      <th>75%</th>\n",
       "      <th>max</th>\n",
       "    </tr>\n",
       "  </thead>\n",
       "  <tbody>\n",
       "    <tr>\n",
       "      <td>age</td>\n",
       "      <td>45211.0</td>\n",
       "      <td>40.936210</td>\n",
       "      <td>10.618762</td>\n",
       "      <td>18.0</td>\n",
       "      <td>33.0</td>\n",
       "      <td>39.0</td>\n",
       "      <td>48.0</td>\n",
       "      <td>95.0</td>\n",
       "    </tr>\n",
       "    <tr>\n",
       "      <td>balance</td>\n",
       "      <td>45211.0</td>\n",
       "      <td>1362.272058</td>\n",
       "      <td>3044.765829</td>\n",
       "      <td>-8019.0</td>\n",
       "      <td>72.0</td>\n",
       "      <td>448.0</td>\n",
       "      <td>1428.0</td>\n",
       "      <td>102127.0</td>\n",
       "    </tr>\n",
       "    <tr>\n",
       "      <td>day</td>\n",
       "      <td>45211.0</td>\n",
       "      <td>15.806419</td>\n",
       "      <td>8.322476</td>\n",
       "      <td>1.0</td>\n",
       "      <td>8.0</td>\n",
       "      <td>16.0</td>\n",
       "      <td>21.0</td>\n",
       "      <td>31.0</td>\n",
       "    </tr>\n",
       "    <tr>\n",
       "      <td>duration</td>\n",
       "      <td>45211.0</td>\n",
       "      <td>258.163080</td>\n",
       "      <td>257.527812</td>\n",
       "      <td>0.0</td>\n",
       "      <td>103.0</td>\n",
       "      <td>180.0</td>\n",
       "      <td>319.0</td>\n",
       "      <td>4918.0</td>\n",
       "    </tr>\n",
       "    <tr>\n",
       "      <td>campaign</td>\n",
       "      <td>45211.0</td>\n",
       "      <td>2.763841</td>\n",
       "      <td>3.098021</td>\n",
       "      <td>1.0</td>\n",
       "      <td>1.0</td>\n",
       "      <td>2.0</td>\n",
       "      <td>3.0</td>\n",
       "      <td>63.0</td>\n",
       "    </tr>\n",
       "    <tr>\n",
       "      <td>pdays</td>\n",
       "      <td>45211.0</td>\n",
       "      <td>40.197828</td>\n",
       "      <td>100.128746</td>\n",
       "      <td>-1.0</td>\n",
       "      <td>-1.0</td>\n",
       "      <td>-1.0</td>\n",
       "      <td>-1.0</td>\n",
       "      <td>871.0</td>\n",
       "    </tr>\n",
       "    <tr>\n",
       "      <td>previous</td>\n",
       "      <td>45211.0</td>\n",
       "      <td>0.580323</td>\n",
       "      <td>2.303441</td>\n",
       "      <td>0.0</td>\n",
       "      <td>0.0</td>\n",
       "      <td>0.0</td>\n",
       "      <td>0.0</td>\n",
       "      <td>275.0</td>\n",
       "    </tr>\n",
       "  </tbody>\n",
       "</table>\n",
       "</div>"
      ],
      "text/plain": [
       "            count         mean          std     min    25%    50%     75%  \\\n",
       "age       45211.0    40.936210    10.618762    18.0   33.0   39.0    48.0   \n",
       "balance   45211.0  1362.272058  3044.765829 -8019.0   72.0  448.0  1428.0   \n",
       "day       45211.0    15.806419     8.322476     1.0    8.0   16.0    21.0   \n",
       "duration  45211.0   258.163080   257.527812     0.0  103.0  180.0   319.0   \n",
       "campaign  45211.0     2.763841     3.098021     1.0    1.0    2.0     3.0   \n",
       "pdays     45211.0    40.197828   100.128746    -1.0   -1.0   -1.0    -1.0   \n",
       "previous  45211.0     0.580323     2.303441     0.0    0.0    0.0     0.0   \n",
       "\n",
       "               max  \n",
       "age           95.0  \n",
       "balance   102127.0  \n",
       "day           31.0  \n",
       "duration    4918.0  \n",
       "campaign      63.0  \n",
       "pdays        871.0  \n",
       "previous     275.0  "
      ]
     },
     "execution_count": 7,
     "metadata": {},
     "output_type": "execute_result"
    }
   ],
   "source": [
    "bank_data.describe().transpose()"
   ]
  },
  {
   "cell_type": "markdown",
   "metadata": {},
   "source": [
    "Looking at the above data, \n",
    "<ol>\n",
    "    \n",
    "    1) For balance the stadard deviation is 3044 which is a very high with min value in negative and Max value is 102127.0 but the mean is 1362,27. Value of 72 lies within 25% and 75% has a value of 1428. This indicates that there is a high possiblity of presence of outlier\n",
    "    2) For Duration, the std is 257.52 which is very highvalue with the mean as 258 and the Mac as 4198 woth 391.0 lies in 75% range. This is again a clear indication of Outliers present in duration column\n",
    "    3) For pdays the std os 100.13 again a quite high value with min as -1.0 which lies within 75% as well. The Max value is 871.0. This is also a good indicator that there would be outliers in pdays column as well."
   ]
  },
  {
   "cell_type": "code",
   "execution_count": 7,
   "metadata": {},
   "outputs": [
    {
     "data": {
      "text/plain": [
       "<seaborn.axisgrid.PairGrid at 0xadb144dfc8>"
      ]
     },
     "execution_count": 7,
     "metadata": {},
     "output_type": "execute_result"
    },
    {
     "data": {
      "image/png": "[encoded data removed]",
      "text/plain": [
       "<Figure size 1260x1260 with 56 Axes>"
      ]
     },
     "metadata": {
      "needs_background": "light"
     },
     "output_type": "display_data"
    }
   ],
   "source": [
    "sns.pairplot(bank_data,hue=None,kind='reg')"
   ]
  },
  {
   "cell_type": "markdown",
   "metadata": {},
   "source": [
    "###### For the above plot\n",
    "<ol>\n",
    "\n",
    "    1) For Balance, there are above around 60,000 which can be considered as outliers. We can drop them to proceed.\n",
    "    2) For duration, there is a outlier above value 4000.\n",
    "    3) For campaign, the value above 60 can also be considered as outlier and dropped\n",
    "    4) For pdays, there are no visible outliers as expected. Looks like all there values are required for processing\n",
    "    5) For pervious, the data with value 275 can be considered as outlier and can be dropped."
   ]
  },
  {
   "cell_type": "code",
   "execution_count": 8,
   "metadata": {},
   "outputs": [
    {
     "data": {
      "image/png": "[encoded data removed]",
      "text/plain": [
       "<Figure size 720x432 with 2 Axes>"
      ]
     },
     "metadata": {
      "needs_background": "light"
     },
     "output_type": "display_data"
    }
   ],
   "source": [
    "bank_corr=bank_data.corr()\n",
    "plt.figure(figsize=(10,6))\n",
    "mask = np.zeros_like(bank_corr)\n",
    "mask[np.triu_indices_from(mask)] = True\n",
    "a = sns.heatmap(bank_corr,mask=mask,annot=True,cmap='coolwarm',fmt='.2f')"
   ]
  },
  {
   "cell_type": "markdown",
   "metadata": {},
   "source": [
    "There are no correlation between the data"
   ]
  },
  {
   "cell_type": "markdown",
   "metadata": {},
   "source": [
    "##### Dropping the outliers"
   ]
  },
  {
   "cell_type": "code",
   "execution_count": 9,
   "metadata": {},
   "outputs": [],
   "source": [
    "bank_data.drop(bank_data[bank_data['balance']> 60000].index,inplace=True)\n",
    "bank_data.drop(bank_data[bank_data['duration']> 4000].index,inplace=True)\n",
    "bank_data.drop(bank_data[bank_data['campaign']> 60].index,inplace=True)\n",
    "bank_data.drop(bank_data[bank_data['previous']>= 275].index,inplace=True)"
   ]
  },
  {
   "cell_type": "markdown",
   "metadata": {},
   "source": [
    "##### Converting all Objects types to Categorical type"
   ]
  },
  {
   "cell_type": "code",
   "execution_count": 10,
   "metadata": {},
   "outputs": [
    {
     "name": "stdout",
     "output_type": "stream",
     "text": [
      "<class 'pandas.core.frame.DataFrame'>\n",
      "Int64Index: 45200 entries, 0 to 45210\n",
      "Data columns (total 17 columns):\n",
      "age          45200 non-null int64\n",
      "job          45200 non-null category\n",
      "marital      45200 non-null category\n",
      "education    45200 non-null category\n",
      "default      45200 non-null category\n",
      "balance      45200 non-null int64\n",
      "housing      45200 non-null category\n",
      "loan         45200 non-null category\n",
      "contact      45200 non-null category\n",
      "day          45200 non-null int64\n",
      "month        45200 non-null category\n",
      "duration     45200 non-null int64\n",
      "campaign     45200 non-null int64\n",
      "pdays        45200 non-null int64\n",
      "previous     45200 non-null int64\n",
      "poutcome     45200 non-null category\n",
      "Target       45200 non-null category\n",
      "dtypes: category(10), int64(7)\n",
      "memory usage: 3.2 MB\n"
     ]
    }
   ],
   "source": [
    "for feature in bank_data.columns: \n",
    "    if bank_data[feature].dtype == 'object': \n",
    "        bank_data[feature] = pd.Categorical(bank_data[feature])\n",
    "bank_data.info()"
   ]
  },
  {
   "cell_type": "code",
   "execution_count": 11,
   "metadata": {},
   "outputs": [
    {
     "name": "stdout",
     "output_type": "stream",
     "text": [
      "blue-collar      9731\n",
      "management       9453\n",
      "technician       7596\n",
      "admin.           5170\n",
      "services         4154\n",
      "retired          2261\n",
      "self-employed    1579\n",
      "entrepreneur     1487\n",
      "unemployed       1303\n",
      "housemaid        1240\n",
      "student           938\n",
      "unknown           288\n",
      "Name: job, dtype: int64\n",
      "married     27205\n",
      "single      12789\n",
      "divorced     5206\n",
      "Name: marital, dtype: int64\n",
      "secondary    23200\n",
      "tertiary     13296\n",
      "primary       6849\n",
      "unknown       1855\n",
      "Name: education, dtype: int64\n",
      "no     44385\n",
      "yes      815\n",
      "Name: default, dtype: int64\n",
      "yes    25127\n",
      "no     20073\n",
      "Name: housing, dtype: int64\n",
      "no     37956\n",
      "yes     7244\n",
      "Name: loan, dtype: int64\n",
      "cellular     29279\n",
      "unknown      13019\n",
      "telephone     2902\n",
      "Name: contact, dtype: int64\n",
      "may    13765\n",
      "jul     6895\n",
      "aug     6244\n",
      "jun     5340\n",
      "nov     3968\n",
      "apr     2931\n",
      "feb     2648\n",
      "jan     1403\n",
      "oct      737\n",
      "sep      579\n",
      "mar      477\n",
      "dec      213\n",
      "Name: month, dtype: int64\n",
      "unknown    36951\n",
      "failure     4901\n",
      "other       1838\n",
      "success     1510\n",
      "Name: poutcome, dtype: int64\n",
      "no     39913\n",
      "yes     5287\n",
      "Name: Target, dtype: int64\n"
     ]
    }
   ],
   "source": [
    "print(bank_data.job.value_counts())\n",
    "print(bank_data.marital.value_counts())\n",
    "print(bank_data.education.value_counts())\n",
    "print(bank_data.default.value_counts())\n",
    "print(bank_data.housing.value_counts())\n",
    "print(bank_data.loan.value_counts())\n",
    "print(bank_data.contact.value_counts())\n",
    "print(bank_data.month.value_counts())\n",
    "print(bank_data.poutcome.value_counts())\n",
    "print(bank_data.Target.value_counts())"
   ]
  },
  {
   "cell_type": "markdown",
   "metadata": {},
   "source": [
    "##### Converting all the data to a categorical data value"
   ]
  },
  {
   "cell_type": "code",
   "execution_count": 12,
   "metadata": {},
   "outputs": [],
   "source": [
    "replaceStruct = {\n",
    "                 \"job\":     {\"blue-collar\": 1, \"management\": 2 ,\"technician\": 3 ,\"admin.\": 4,\"services\": 5,\"retired\": 6,\n",
    "                             \"self-employed\": 7,\"entrepreneur\": 8, \"unemployed\": 9,\"housemaid\": 10 ,\n",
    "                             \"student\": 11,\"unknown\":-1},\n",
    "                \"default\":  {\"yes\": 1, \"no\": 0 },\n",
    "                \"housing\":  {\"no\": 0, \"yes\": 1 },\n",
    "                \"loan\":     {\"yes\": 1, \"no\": 2},\n",
    "                \"month\":    {\"jan\": 1, \"feb\": 2, \"mar\": 3, \"apr\": 4, \"may\": 5, \"jun\": 6, \"jul\": 7, \"aug\": 8, \"sep\": 9, \n",
    "                            \"oct\": 10, \"nov\": 11, \"dec\": 12, },\n",
    "                \"poutcome\": {\"success\": 2, \"other\": 1, \"failure\": 0, \"unknown\": -1 },\n",
    "                \"Target\"  : {\"yes\": 1, \"no\": 0 }\n",
    "                    }\n",
    "oneHotCols=[\"marital\",\"education\",\"contact\"]"
   ]
  },
  {
   "cell_type": "code",
   "execution_count": 13,
   "metadata": {},
   "outputs": [
    {
     "data": {
      "text/html": [
       "<div>\n",
       "<style scoped>\n",
       "    .dataframe tbody tr th:only-of-type {\n",
       "        vertical-align: middle;\n",
       "    }\n",
       "\n",
       "    .dataframe tbody tr th {\n",
       "        vertical-align: top;\n",
       "    }\n",
       "\n",
       "    .dataframe thead th {\n",
       "        text-align: right;\n",
       "    }\n",
       "</style>\n",
       "<table border=\"1\" class=\"dataframe\">\n",
       "  <thead>\n",
       "    <tr style=\"text-align: right;\">\n",
       "      <th></th>\n",
       "      <th>age</th>\n",
       "      <th>job</th>\n",
       "      <th>default</th>\n",
       "      <th>balance</th>\n",
       "      <th>housing</th>\n",
       "      <th>loan</th>\n",
       "      <th>day</th>\n",
       "      <th>month</th>\n",
       "      <th>duration</th>\n",
       "      <th>campaign</th>\n",
       "      <th>...</th>\n",
       "      <th>marital_divorced</th>\n",
       "      <th>marital_married</th>\n",
       "      <th>marital_single</th>\n",
       "      <th>education_primary</th>\n",
       "      <th>education_secondary</th>\n",
       "      <th>education_tertiary</th>\n",
       "      <th>education_unknown</th>\n",
       "      <th>contact_cellular</th>\n",
       "      <th>contact_telephone</th>\n",
       "      <th>contact_unknown</th>\n",
       "    </tr>\n",
       "  </thead>\n",
       "  <tbody>\n",
       "    <tr>\n",
       "      <td>0</td>\n",
       "      <td>58</td>\n",
       "      <td>2</td>\n",
       "      <td>0</td>\n",
       "      <td>2143</td>\n",
       "      <td>1</td>\n",
       "      <td>2</td>\n",
       "      <td>5</td>\n",
       "      <td>5</td>\n",
       "      <td>261</td>\n",
       "      <td>1</td>\n",
       "      <td>...</td>\n",
       "      <td>0</td>\n",
       "      <td>1</td>\n",
       "      <td>0</td>\n",
       "      <td>0</td>\n",
       "      <td>0</td>\n",
       "      <td>1</td>\n",
       "      <td>0</td>\n",
       "      <td>0</td>\n",
       "      <td>0</td>\n",
       "      <td>1</td>\n",
       "    </tr>\n",
       "    <tr>\n",
       "      <td>1</td>\n",
       "      <td>44</td>\n",
       "      <td>3</td>\n",
       "      <td>0</td>\n",
       "      <td>29</td>\n",
       "      <td>1</td>\n",
       "      <td>2</td>\n",
       "      <td>5</td>\n",
       "      <td>5</td>\n",
       "      <td>151</td>\n",
       "      <td>1</td>\n",
       "      <td>...</td>\n",
       "      <td>0</td>\n",
       "      <td>0</td>\n",
       "      <td>1</td>\n",
       "      <td>0</td>\n",
       "      <td>1</td>\n",
       "      <td>0</td>\n",
       "      <td>0</td>\n",
       "      <td>0</td>\n",
       "      <td>0</td>\n",
       "      <td>1</td>\n",
       "    </tr>\n",
       "    <tr>\n",
       "      <td>2</td>\n",
       "      <td>33</td>\n",
       "      <td>8</td>\n",
       "      <td>0</td>\n",
       "      <td>2</td>\n",
       "      <td>1</td>\n",
       "      <td>1</td>\n",
       "      <td>5</td>\n",
       "      <td>5</td>\n",
       "      <td>76</td>\n",
       "      <td>1</td>\n",
       "      <td>...</td>\n",
       "      <td>0</td>\n",
       "      <td>1</td>\n",
       "      <td>0</td>\n",
       "      <td>0</td>\n",
       "      <td>1</td>\n",
       "      <td>0</td>\n",
       "      <td>0</td>\n",
       "      <td>0</td>\n",
       "      <td>0</td>\n",
       "      <td>1</td>\n",
       "    </tr>\n",
       "    <tr>\n",
       "      <td>3</td>\n",
       "      <td>47</td>\n",
       "      <td>1</td>\n",
       "      <td>0</td>\n",
       "      <td>1506</td>\n",
       "      <td>1</td>\n",
       "      <td>2</td>\n",
       "      <td>5</td>\n",
       "      <td>5</td>\n",
       "      <td>92</td>\n",
       "      <td>1</td>\n",
       "      <td>...</td>\n",
       "      <td>0</td>\n",
       "      <td>1</td>\n",
       "      <td>0</td>\n",
       "      <td>0</td>\n",
       "      <td>0</td>\n",
       "      <td>0</td>\n",
       "      <td>1</td>\n",
       "      <td>0</td>\n",
       "      <td>0</td>\n",
       "      <td>1</td>\n",
       "    </tr>\n",
       "    <tr>\n",
       "      <td>4</td>\n",
       "      <td>33</td>\n",
       "      <td>-1</td>\n",
       "      <td>0</td>\n",
       "      <td>1</td>\n",
       "      <td>0</td>\n",
       "      <td>2</td>\n",
       "      <td>5</td>\n",
       "      <td>5</td>\n",
       "      <td>198</td>\n",
       "      <td>1</td>\n",
       "      <td>...</td>\n",
       "      <td>0</td>\n",
       "      <td>0</td>\n",
       "      <td>1</td>\n",
       "      <td>0</td>\n",
       "      <td>0</td>\n",
       "      <td>0</td>\n",
       "      <td>1</td>\n",
       "      <td>0</td>\n",
       "      <td>0</td>\n",
       "      <td>1</td>\n",
       "    </tr>\n",
       "    <tr>\n",
       "      <td>5</td>\n",
       "      <td>35</td>\n",
       "      <td>2</td>\n",
       "      <td>0</td>\n",
       "      <td>231</td>\n",
       "      <td>1</td>\n",
       "      <td>2</td>\n",
       "      <td>5</td>\n",
       "      <td>5</td>\n",
       "      <td>139</td>\n",
       "      <td>1</td>\n",
       "      <td>...</td>\n",
       "      <td>0</td>\n",
       "      <td>1</td>\n",
       "      <td>0</td>\n",
       "      <td>0</td>\n",
       "      <td>0</td>\n",
       "      <td>1</td>\n",
       "      <td>0</td>\n",
       "      <td>0</td>\n",
       "      <td>0</td>\n",
       "      <td>1</td>\n",
       "    </tr>\n",
       "    <tr>\n",
       "      <td>6</td>\n",
       "      <td>28</td>\n",
       "      <td>2</td>\n",
       "      <td>0</td>\n",
       "      <td>447</td>\n",
       "      <td>1</td>\n",
       "      <td>1</td>\n",
       "      <td>5</td>\n",
       "      <td>5</td>\n",
       "      <td>217</td>\n",
       "      <td>1</td>\n",
       "      <td>...</td>\n",
       "      <td>0</td>\n",
       "      <td>0</td>\n",
       "      <td>1</td>\n",
       "      <td>0</td>\n",
       "      <td>0</td>\n",
       "      <td>1</td>\n",
       "      <td>0</td>\n",
       "      <td>0</td>\n",
       "      <td>0</td>\n",
       "      <td>1</td>\n",
       "    </tr>\n",
       "    <tr>\n",
       "      <td>7</td>\n",
       "      <td>42</td>\n",
       "      <td>8</td>\n",
       "      <td>1</td>\n",
       "      <td>2</td>\n",
       "      <td>1</td>\n",
       "      <td>2</td>\n",
       "      <td>5</td>\n",
       "      <td>5</td>\n",
       "      <td>380</td>\n",
       "      <td>1</td>\n",
       "      <td>...</td>\n",
       "      <td>1</td>\n",
       "      <td>0</td>\n",
       "      <td>0</td>\n",
       "      <td>0</td>\n",
       "      <td>0</td>\n",
       "      <td>1</td>\n",
       "      <td>0</td>\n",
       "      <td>0</td>\n",
       "      <td>0</td>\n",
       "      <td>1</td>\n",
       "    </tr>\n",
       "    <tr>\n",
       "      <td>8</td>\n",
       "      <td>58</td>\n",
       "      <td>6</td>\n",
       "      <td>0</td>\n",
       "      <td>121</td>\n",
       "      <td>1</td>\n",
       "      <td>2</td>\n",
       "      <td>5</td>\n",
       "      <td>5</td>\n",
       "      <td>50</td>\n",
       "      <td>1</td>\n",
       "      <td>...</td>\n",
       "      <td>0</td>\n",
       "      <td>1</td>\n",
       "      <td>0</td>\n",
       "      <td>1</td>\n",
       "      <td>0</td>\n",
       "      <td>0</td>\n",
       "      <td>0</td>\n",
       "      <td>0</td>\n",
       "      <td>0</td>\n",
       "      <td>1</td>\n",
       "    </tr>\n",
       "    <tr>\n",
       "      <td>9</td>\n",
       "      <td>43</td>\n",
       "      <td>3</td>\n",
       "      <td>0</td>\n",
       "      <td>593</td>\n",
       "      <td>1</td>\n",
       "      <td>2</td>\n",
       "      <td>5</td>\n",
       "      <td>5</td>\n",
       "      <td>55</td>\n",
       "      <td>1</td>\n",
       "      <td>...</td>\n",
       "      <td>0</td>\n",
       "      <td>0</td>\n",
       "      <td>1</td>\n",
       "      <td>0</td>\n",
       "      <td>1</td>\n",
       "      <td>0</td>\n",
       "      <td>0</td>\n",
       "      <td>0</td>\n",
       "      <td>0</td>\n",
       "      <td>1</td>\n",
       "    </tr>\n",
       "  </tbody>\n",
       "</table>\n",
       "<p>10 rows × 24 columns</p>\n",
       "</div>"
      ],
      "text/plain": [
       "   age  job  default  balance  housing  loan  day  month  duration  campaign  \\\n",
       "0   58    2        0     2143        1     2    5      5       261         1   \n",
       "1   44    3        0       29        1     2    5      5       151         1   \n",
       "2   33    8        0        2        1     1    5      5        76         1   \n",
       "3   47    1        0     1506        1     2    5      5        92         1   \n",
       "4   33   -1        0        1        0     2    5      5       198         1   \n",
       "5   35    2        0      231        1     2    5      5       139         1   \n",
       "6   28    2        0      447        1     1    5      5       217         1   \n",
       "7   42    8        1        2        1     2    5      5       380         1   \n",
       "8   58    6        0      121        1     2    5      5        50         1   \n",
       "9   43    3        0      593        1     2    5      5        55         1   \n",
       "\n",
       "   ...  marital_divorced  marital_married  marital_single  education_primary  \\\n",
       "0  ...                 0                1               0                  0   \n",
       "1  ...                 0                0               1                  0   \n",
       "2  ...                 0                1               0                  0   \n",
       "3  ...                 0                1               0                  0   \n",
       "4  ...                 0                0               1                  0   \n",
       "5  ...                 0                1               0                  0   \n",
       "6  ...                 0                0               1                  0   \n",
       "7  ...                 1                0               0                  0   \n",
       "8  ...                 0                1               0                  1   \n",
       "9  ...                 0                0               1                  0   \n",
       "\n",
       "   education_secondary  education_tertiary  education_unknown  \\\n",
       "0                    0                   1                  0   \n",
       "1                    1                   0                  0   \n",
       "2                    1                   0                  0   \n",
       "3                    0                   0                  1   \n",
       "4                    0                   0                  1   \n",
       "5                    0                   1                  0   \n",
       "6                    0                   1                  0   \n",
       "7                    0                   1                  0   \n",
       "8                    0                   0                  0   \n",
       "9                    1                   0                  0   \n",
       "\n",
       "   contact_cellular  contact_telephone  contact_unknown  \n",
       "0                 0                  0                1  \n",
       "1                 0                  0                1  \n",
       "2                 0                  0                1  \n",
       "3                 0                  0                1  \n",
       "4                 0                  0                1  \n",
       "5                 0                  0                1  \n",
       "6                 0                  0                1  \n",
       "7                 0                  0                1  \n",
       "8                 0                  0                1  \n",
       "9                 0                  0                1  \n",
       "\n",
       "[10 rows x 24 columns]"
      ]
     },
     "execution_count": 13,
     "metadata": {},
     "output_type": "execute_result"
    }
   ],
   "source": [
    "bank_data=bank_data.replace(replaceStruct)\n",
    "bank_data=pd.get_dummies(bank_data, columns=oneHotCols)\n",
    "bank_data.head(10)"
   ]
  },
  {
   "cell_type": "code",
   "execution_count": 14,
   "metadata": {},
   "outputs": [
    {
     "name": "stdout",
     "output_type": "stream",
     "text": [
      "<class 'pandas.core.frame.DataFrame'>\n",
      "Int64Index: 45200 entries, 0 to 45210\n",
      "Data columns (total 24 columns):\n",
      "age                    45200 non-null int64\n",
      "job                    45200 non-null int64\n",
      "default                45200 non-null int64\n",
      "balance                45200 non-null int64\n",
      "housing                45200 non-null int64\n",
      "loan                   45200 non-null int64\n",
      "day                    45200 non-null int64\n",
      "month                  45200 non-null int64\n",
      "duration               45200 non-null int64\n",
      "campaign               45200 non-null int64\n",
      "pdays                  45200 non-null int64\n",
      "previous               45200 non-null int64\n",
      "poutcome               45200 non-null int64\n",
      "Target                 45200 non-null int64\n",
      "marital_divorced       45200 non-null uint8\n",
      "marital_married        45200 non-null uint8\n",
      "marital_single         45200 non-null uint8\n",
      "education_primary      45200 non-null uint8\n",
      "education_secondary    45200 non-null uint8\n",
      "education_tertiary     45200 non-null uint8\n",
      "education_unknown      45200 non-null uint8\n",
      "contact_cellular       45200 non-null uint8\n",
      "contact_telephone      45200 non-null uint8\n",
      "contact_unknown        45200 non-null uint8\n",
      "dtypes: int64(14), uint8(10)\n",
      "memory usage: 5.6 MB\n"
     ]
    }
   ],
   "source": [
    "bank_data.info()"
   ]
  },
  {
   "cell_type": "markdown",
   "metadata": {},
   "source": [
    "### Split the data"
   ]
  },
  {
   "cell_type": "code",
   "execution_count": 15,
   "metadata": {},
   "outputs": [],
   "source": [
    "from sklearn.model_selection import train_test_split\n",
    "from sklearn.tree import DecisionTreeClassifier\n",
    "from sklearn import tree\n",
    "from os import system\n",
    "X = bank_data.drop(\"Target\", axis=1)\n",
    "y = bank_data.pop(\"Target\")\n",
    "X_train, X_test, y_train, y_test = train_test_split(X, y, test_size=.30, random_state=1)"
   ]
  },
  {
   "cell_type": "markdown",
   "metadata": {},
   "source": [
    "### Logistic regression model"
   ]
  },
  {
   "cell_type": "code",
   "execution_count": 16,
   "metadata": {},
   "outputs": [
    {
     "name": "stdout",
     "output_type": "stream",
     "text": [
      "0.9002949852507375\n",
      "[[  455  1094]\n",
      " [  258 11753]]\n",
      "Logistic regression model Classification Report\n",
      "              precision    recall  f1-score   support\n",
      "\n",
      "           1       0.64      0.29      0.40      1549\n",
      "           0       0.91      0.98      0.95     12011\n",
      "\n",
      "    accuracy                           0.90     13560\n",
      "   macro avg       0.78      0.64      0.67     13560\n",
      "weighted avg       0.88      0.90      0.88     13560\n",
      "\n"
     ]
    }
   ],
   "source": [
    "from sklearn.linear_model import LogisticRegression\n",
    "from sklearn import metrics\n",
    "PL_LR_model= LogisticRegression(solver='liblinear')\n",
    "PL_LR_model.fit(X_train,y_train)\n",
    "PL_LR_model_pred= PL_LR_model.predict(X_test)\n",
    "PL_LR_model_score=PL_LR_model.score(X_test,y_test)\n",
    "print(PL_LR_model_score)\n",
    "LR_cm=metrics.confusion_matrix(y_test,PL_LR_model_pred,labels=[1,0])\n",
    "print(LR_cm)\n",
    "LR_cr=metrics.classification_report(y_test,PL_LR_model_pred,labels=[1,0])\n",
    "print('Logistic regression model Classification Report')\n",
    "print(LR_cr)"
   ]
  },
  {
   "cell_type": "markdown",
   "metadata": {},
   "source": [
    "### Naive Bayes"
   ]
  },
  {
   "cell_type": "code",
   "execution_count": 17,
   "metadata": {},
   "outputs": [
    {
     "name": "stdout",
     "output_type": "stream",
     "text": [
      "0.8421828908554573\n",
      "[[  838   711]\n",
      " [ 1429 10582]]\n",
      "              precision    recall  f1-score   support\n",
      "\n",
      "           1       0.37      0.54      0.44      1549\n",
      "           0       0.94      0.88      0.91     12011\n",
      "\n",
      "    accuracy                           0.84     13560\n",
      "   macro avg       0.65      0.71      0.67     13560\n",
      "weighted avg       0.87      0.84      0.85     13560\n",
      "\n"
     ]
    }
   ],
   "source": [
    "from sklearn.naive_bayes import GaussianNB\n",
    "PL_NB_model=GaussianNB()\n",
    "PL_NB_model.fit(X_train,y_train)\n",
    "PL_NB_model_pred= PL_NB_model.predict(X_test)\n",
    "PL_NB_model_score=PL_NB_model.score(X_test,y_test)\n",
    "print(PL_NB_model_score)\n",
    "print(metrics.confusion_matrix(y_test,PL_NB_model_pred,labels=[1,0]))\n",
    "print(metrics.classification_report(y_test,PL_NB_model_pred,labels=[1,0]))"
   ]
  },
  {
   "cell_type": "markdown",
   "metadata": {},
   "source": [
    "### KNN model"
   ]
  },
  {
   "cell_type": "code",
   "execution_count": 18,
   "metadata": {},
   "outputs": [
    {
     "name": "stdout",
     "output_type": "stream",
     "text": [
      "0.8827433628318584\n",
      "[[  428  1121]\n",
      " [  469 11542]]\n"
     ]
    }
   ],
   "source": [
    "from sklearn.neighbors import KNeighborsClassifier\n",
    "PL_KNN_T=KNeighborsClassifier(n_neighbors=5,weights='distance')\n",
    "PL_KNN_T.fit(X_train,y_train)\n",
    "PL_KNN_T_pred= PL_KNN_T.predict(X_test)\n",
    "PL_KNN_T_score=PL_KNN_T.score(X_test,y_test)\n",
    "print(PL_KNN_T_score)\n",
    "print(metrics.confusion_matrix(y_test,PL_KNN_T_pred,labels=[1,0]))"
   ]
  },
  {
   "cell_type": "markdown",
   "metadata": {},
   "source": [
    "#### Choosing correct K value"
   ]
  },
  {
   "cell_type": "code",
   "execution_count": 19,
   "metadata": {},
   "outputs": [
    {
     "data": {
      "text/plain": [
       "[<matplotlib.lines.Line2D at 0x748426ea08>]"
      ]
     },
     "execution_count": 19,
     "metadata": {},
     "output_type": "execute_result"
    },
    {
     "data": {
      "image/png": "[encoded data removed]",
      "text/plain": [
       "<Figure size 432x288 with 1 Axes>"
      ]
     },
     "metadata": {
      "needs_background": "light"
     },
     "output_type": "display_data"
    }
   ],
   "source": [
    "KNN_score = []\n",
    "for i in range (1,50):\n",
    "    PL_KNN = KNeighborsClassifier(n_neighbors=i,weights='distance')\n",
    "    PL_KNN.fit(X_train,y_train)\n",
    "    KNN_score.append(PL_KNN.score(X_test,y_test))\n",
    "plt.plot(range(1,50),KNN_score)    "
   ]
  },
  {
   "cell_type": "code",
   "execution_count": 20,
   "metadata": {},
   "outputs": [
    {
     "name": "stdout",
     "output_type": "stream",
     "text": [
      "26 0.8890117994100295\n",
      "28 0.8890855457227138\n",
      "30 0.889306784660767\n",
      "31 0.8891592920353982\n",
      "41 0.8890117994100295\n",
      "42 0.8893805309734514\n",
      "43 0.8896755162241888\n",
      "44 0.8898230088495576\n",
      "45 0.890117994100295\n",
      "46 0.8894542772861357\n",
      "47 0.8901917404129793\n",
      "48 0.8897492625368731\n"
     ]
    }
   ],
   "source": [
    "for i in range (1,49):\n",
    "    if KNN_score[i] > 0.889:\n",
    "        print(i,KNN_score[i])"
   ]
  },
  {
   "cell_type": "markdown",
   "metadata": {},
   "source": [
    "Choosing the K value to be 30"
   ]
  },
  {
   "cell_type": "code",
   "execution_count": 21,
   "metadata": {},
   "outputs": [
    {
     "name": "stdout",
     "output_type": "stream",
     "text": [
      "[[  297  1252]\n",
      " [  255 11756]]\n",
      "              precision    recall  f1-score   support\n",
      "\n",
      "           1       0.54      0.19      0.28      1549\n",
      "           0       0.90      0.98      0.94     12011\n",
      "\n",
      "    accuracy                           0.89     13560\n",
      "   macro avg       0.72      0.59      0.61     13560\n",
      "weighted avg       0.86      0.89      0.86     13560\n",
      "\n"
     ]
    }
   ],
   "source": [
    "from sklearn.neighbors import KNeighborsClassifier\n",
    "PL_KNN_model=KNeighborsClassifier(n_neighbors=30,weights='distance')\n",
    "PL_KNN_model.fit(X_train,y_train)\n",
    "PL_KNN_model_pred= PL_KNN_model.predict(X_test)\n",
    "print(metrics.confusion_matrix(y_test,PL_KNN_model_pred,labels=[1,0]))\n",
    "print(metrics.classification_report(y_test,PL_KNN_model_pred,labels=[1,0]))"
   ]
  },
  {
   "cell_type": "markdown",
   "metadata": {},
   "source": [
    "### Building Decision Tree Model"
   ]
  },
  {
   "cell_type": "code",
   "execution_count": 22,
   "metadata": {},
   "outputs": [
    {
     "data": {
      "text/plain": [
       "DecisionTreeClassifier(class_weight=None, criterion='gini', max_depth=None,\n",
       "                       max_features=None, max_leaf_nodes=None,\n",
       "                       min_impurity_decrease=0.0, min_impurity_split=None,\n",
       "                       min_samples_leaf=1, min_samples_split=2,\n",
       "                       min_weight_fraction_leaf=0.0, presort=False,\n",
       "                       random_state=1, splitter='best')"
      ]
     },
     "execution_count": 22,
     "metadata": {},
     "output_type": "execute_result"
    }
   ],
   "source": [
    "dTree = DecisionTreeClassifier(criterion = 'gini', random_state=1)\n",
    "dTree.fit(X_train, y_train)"
   ]
  },
  {
   "cell_type": "code",
   "execution_count": 23,
   "metadata": {},
   "outputs": [
    {
     "name": "stdout",
     "output_type": "stream",
     "text": [
      "1.0\n",
      "0.8744837758112094\n"
     ]
    }
   ],
   "source": [
    "print(dTree.score(X_train, y_train))\n",
    "print(dTree.score(X_test, y_test))"
   ]
  },
  {
   "cell_type": "code",
   "execution_count": 24,
   "metadata": {},
   "outputs": [
    {
     "name": "stdout",
     "output_type": "stream",
     "text": [
      "0.9019911504424779\n",
      "0.9038348082595871\n"
     ]
    }
   ],
   "source": [
    "dTreeR = DecisionTreeClassifier(criterion = 'gini', max_depth = 5, random_state=1)\n",
    "dTreeR.fit(X_train, y_train)\n",
    "print(dTreeR.score(X_train, y_train))\n",
    "print(dTreeR.score(X_test, y_test))"
   ]
  },
  {
   "cell_type": "code",
   "execution_count": 25,
   "metadata": {},
   "outputs": [
    {
     "name": "stdout",
     "output_type": "stream",
     "text": [
      "                          Imp\n",
      "age                  0.000844\n",
      "job                  0.000000\n",
      "default              0.000812\n",
      "balance              0.005259\n",
      "housing              0.058995\n",
      "loan                 0.000000\n",
      "day                  0.001522\n",
      "month                0.020025\n",
      "duration             0.554589\n",
      "campaign             0.000000\n",
      "pdays                0.016347\n",
      "previous             0.000000\n",
      "poutcome             0.296796\n",
      "marital_divorced     0.000000\n",
      "marital_married      0.005784\n",
      "marital_single       0.000000\n",
      "education_primary    0.000000\n",
      "education_secondary  0.000000\n",
      "education_tertiary   0.001579\n",
      "education_unknown    0.000000\n",
      "contact_cellular     0.000000\n",
      "contact_telephone    0.000000\n",
      "contact_unknown      0.037448\n"
     ]
    }
   ],
   "source": [
    "print (pd.DataFrame(dTreeR.feature_importances_, columns = [\"Imp\"], index = X_train.columns))"
   ]
  },
  {
   "cell_type": "code",
   "execution_count": 26,
   "metadata": {},
   "outputs": [
    {
     "name": "stdout",
     "output_type": "stream",
     "text": [
      "0.9038348082595871\n",
      "[[11802   209]\n",
      " [ 1095   454]]\n"
     ]
    }
   ],
   "source": [
    "print(dTreeR.score(X_test , y_test))\n",
    "y_predict = dTreeR.predict(X_test)\n",
    "print(metrics.confusion_matrix(y_test, y_predict, labels=[0, 1]))"
   ]
  },
  {
   "cell_type": "markdown",
   "metadata": {},
   "source": [
    "##                             Ensemble  - Bagging"
   ]
  },
  {
   "cell_type": "code",
   "execution_count": 27,
   "metadata": {},
   "outputs": [],
   "source": [
    "from sklearn.ensemble import BaggingClassifier\n",
    "\n",
    "bgcl = BaggingClassifier(base_estimator=dTree, n_estimators=50,random_state=1)\n",
    "bgcl = bgcl.fit(X_train, y_train)"
   ]
  },
  {
   "cell_type": "code",
   "execution_count": 28,
   "metadata": {},
   "outputs": [
    {
     "name": "stdout",
     "output_type": "stream",
     "text": [
      "0.9042772861356932\n",
      "[[11572   439]\n",
      " [  859   690]]\n",
      "              precision    recall  f1-score   support\n",
      "\n",
      "           1       0.61      0.45      0.52      1549\n",
      "           0       0.93      0.96      0.95     12011\n",
      "\n",
      "    accuracy                           0.90     13560\n",
      "   macro avg       0.77      0.70      0.73     13560\n",
      "weighted avg       0.89      0.90      0.90     13560\n",
      "\n"
     ]
    }
   ],
   "source": [
    "y_predict = bgcl.predict(X_test)\n",
    "print(bgcl.score(X_test , y_test))\n",
    "print(metrics.confusion_matrix(y_test, y_predict,labels=[0, 1]))\n",
    "print(metrics.classification_report(y_test,y_predict,labels=[1,0]))"
   ]
  },
  {
   "cell_type": "markdown",
   "metadata": {},
   "source": [
    "##                              Ensemble  - AdaBoosting\n"
   ]
  },
  {
   "cell_type": "code",
   "execution_count": 29,
   "metadata": {},
   "outputs": [],
   "source": [
    "from sklearn.ensemble import AdaBoostClassifier\n",
    "abcl = AdaBoostClassifier(n_estimators=50, random_state=1)\n",
    "abcl = abcl.fit(X_train, y_train)"
   ]
  },
  {
   "cell_type": "code",
   "execution_count": 30,
   "metadata": {},
   "outputs": [
    {
     "name": "stdout",
     "output_type": "stream",
     "text": [
      "0.9005899705014749\n",
      "[[11637   374]\n",
      " [  974   575]]\n",
      "              precision    recall  f1-score   support\n",
      "\n",
      "           1       0.61      0.37      0.46      1549\n",
      "           0       0.92      0.97      0.95     12011\n",
      "\n",
      "    accuracy                           0.90     13560\n",
      "   macro avg       0.76      0.67      0.70     13560\n",
      "weighted avg       0.89      0.90      0.89     13560\n",
      "\n"
     ]
    }
   ],
   "source": [
    "y_predict = abcl.predict(X_test)\n",
    "print(abcl.score(X_test , y_test))\n",
    "print(metrics.confusion_matrix(y_test, y_predict,labels=[0, 1]))\n",
    "print(metrics.classification_report(y_test,y_predict,labels=[1,0]))"
   ]
  },
  {
   "cell_type": "markdown",
   "metadata": {},
   "source": [
    "##                     Ensemble  - GradientBoost\n"
   ]
  },
  {
   "cell_type": "code",
   "execution_count": 31,
   "metadata": {},
   "outputs": [
    {
     "name": "stdout",
     "output_type": "stream",
     "text": [
      "0.9064159292035399\n",
      "[[11726   285]\n",
      " [  984   565]]\n",
      "              precision    recall  f1-score   support\n",
      "\n",
      "           1       0.66      0.36      0.47      1549\n",
      "           0       0.92      0.98      0.95     12011\n",
      "\n",
      "    accuracy                           0.91     13560\n",
      "   macro avg       0.79      0.67      0.71     13560\n",
      "weighted avg       0.89      0.91      0.89     13560\n",
      "\n"
     ]
    }
   ],
   "source": [
    "from sklearn.ensemble import GradientBoostingClassifier\n",
    "gbcl = GradientBoostingClassifier(n_estimators = 50,random_state=1)\n",
    "gbcl = gbcl.fit(X_train, y_train)\n",
    "y_predict = gbcl.predict(X_test)\n",
    "print(gbcl.score(X_test, y_test))\n",
    "print(metrics.confusion_matrix(y_test, y_predict,labels=[0, 1]))\n",
    "print(metrics.classification_report(y_test,y_predict,labels=[1,0]))"
   ]
  },
  {
   "cell_type": "markdown",
   "metadata": {},
   "source": [
    "## Ensemble RandomForest Classifier"
   ]
  },
  {
   "cell_type": "code",
   "execution_count": 32,
   "metadata": {},
   "outputs": [
    {
     "name": "stdout",
     "output_type": "stream",
     "text": [
      "0.9053834808259587\n",
      "[[11594   417]\n",
      " [  866   683]]\n",
      "              precision    recall  f1-score   support\n",
      "\n",
      "           1       0.62      0.44      0.52      1549\n",
      "           0       0.93      0.97      0.95     12011\n",
      "\n",
      "    accuracy                           0.91     13560\n",
      "   macro avg       0.78      0.70      0.73     13560\n",
      "weighted avg       0.90      0.91      0.90     13560\n",
      "\n"
     ]
    }
   ],
   "source": [
    "from sklearn.ensemble import RandomForestClassifier\n",
    "rfcl = RandomForestClassifier(n_estimators = 50, random_state=1,max_features=12)\n",
    "rfcl = rfcl.fit(X_train, y_train)\n",
    "y_predict = rfcl.predict(X_test)\n",
    "print(rfcl.score(X_test, y_test))\n",
    "print(metrics.confusion_matrix(y_test, y_predict,labels=[0, 1]))\n",
    "print(metrics.classification_report(y_test,y_predict,labels=[1,0]))"
   ]
  },
  {
   "cell_type": "markdown",
   "metadata": {},
   "source": [
    "From the above details,\n",
    "<ol>\n",
    "    \n",
    "    1) The Accuracy is equal for both Random forest classifier and GradientBoost which is higher than the all other models. \n",
    "    2) When we consider the percision of predicting the Term deposit, GradientBoost does well than the Random forest classifier \n",
    "    3) At the same time Random tree classifier performs well with its Recall percntage and F1 score.\n",
    "    \n",
    "From all these details, for predicting the Term deposit, We can go with the GradientBoost classifier as it has good accuracy of 91% and 66% percision percentage in prediction and a highest perdiction score of 90.64% amoung the all models."
   ]
  },
  {
   "cell_type": "code",
   "execution_count": null,
   "metadata": {},
   "outputs": [],
   "source": []
  }
 ],
 "metadata": {
  "kernelspec": {
   "display_name": "Python 3",
   "language": "python",
   "name": "python3"
  },
  "language_info": {
   "codemirror_mode": {
    "name": "ipython",
    "version": 3
   },
   "file_extension": ".py",
   "mimetype": "text/x-python",
   "name": "python",
   "nbconvert_exporter": "python",
   "pygments_lexer": "ipython3",
   "version": "3.7.4"
  }
 },
 "nbformat": 4,
 "nbformat_minor": 2
}
