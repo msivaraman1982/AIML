{
 "cells": [
  {
   "cell_type": "code",
   "execution_count": 1,
   "metadata": {
    "colab": {
     "base_uri": "https://localhost:8080/",
     "height": 35
    },
    "colab_type": "code",
    "id": "LHWGpf-JXuBx",
    "outputId": "7d37df28-bf2e-4ba2-a8b9-2f692928baf4"
   },
   "outputs": [
    {
     "name": "stdout",
     "output_type": "stream",
     "text": [
      "Mounted at /content/drive\n"
     ]
    }
   ],
   "source": [
    "from google.colab import drive\n",
    "drive.mount('/content/drive',force_remount=True)"
   ]
  },
  {
   "cell_type": "code",
   "execution_count": 2,
   "metadata": {
    "colab": {
     "base_uri": "https://localhost:8080/",
     "height": 72
    },
    "colab_type": "code",
    "id": "MYlk_xh7bm-T",
    "outputId": "86e48efe-6484-46ef-aa6c-513e5badca6d"
   },
   "outputs": [
    {
     "name": "stderr",
     "output_type": "stream",
     "text": [
      "/usr/local/lib/python3.6/dist-packages/statsmodels/tools/_testing.py:19: FutureWarning: pandas.util.testing is deprecated. Use the functions in the public API at pandas.testing instead.\n",
      "  import pandas.util.testing as tm\n"
     ]
    }
   ],
   "source": [
    "import numpy as np\n",
    "import pandas as pd\n",
    "import seaborn as sns\n",
    "from matplotlib import pyplot as plt\n",
    "%matplotlib inline\n",
    "import h5py"
   ]
  },
  {
   "cell_type": "code",
   "execution_count": 3,
   "metadata": {
    "colab": {
     "base_uri": "https://localhost:8080/",
     "height": 35
    },
    "colab_type": "code",
    "id": "xeZGYhpUlarY",
    "outputId": "1d31d0e0-9c56-4802-abc7-22a871714e52"
   },
   "outputs": [
    {
     "data": {
      "application/vnd.google.colaboratory.intrinsic+json": {
       "type": "string"
      },
      "text/plain": [
       "'2.3.0'"
      ]
     },
     "execution_count": 3,
     "metadata": {
      "tags": []
     },
     "output_type": "execute_result"
    }
   ],
   "source": [
    "import tensorflow\n",
    "tensorflow.__version__"
   ]
  },
  {
   "cell_type": "code",
   "execution_count": 4,
   "metadata": {
    "colab": {},
    "colab_type": "code",
    "id": "4Fjqj-GOpodM"
   },
   "outputs": [],
   "source": [
    "#Initalize random number generator\n",
    "import random\n",
    "random.seed(0)\n",
    "\n",
    "#Ignore warnings\n",
    "import warnings\n",
    "warnings.filterwarnings(\"ignore\")"
   ]
  },
  {
   "cell_type": "code",
   "execution_count": 5,
   "metadata": {
    "colab": {},
    "colab_type": "code",
    "id": "FqLo-aIocLxY"
   },
   "outputs": [],
   "source": [
    "rootDir = '/content/drive/My Drive/AIML Assignments/Neural network/'"
   ]
  },
  {
   "cell_type": "code",
   "execution_count": 6,
   "metadata": {
    "colab": {},
    "colab_type": "code",
    "id": "a2e76ju6cOI-"
   },
   "outputs": [],
   "source": [
    "h5f = h5py.File(rootDir + 'SVHN_single_grey1.h5','r')"
   ]
  },
  {
   "cell_type": "code",
   "execution_count": 7,
   "metadata": {
    "colab": {
     "base_uri": "https://localhost:8080/",
     "height": 35
    },
    "colab_type": "code",
    "id": "tPpLtBFkkKf6",
    "outputId": "a851a0ec-4004-44ea-a2ce-a73ce3896d20"
   },
   "outputs": [
    {
     "data": {
      "text/plain": [
       "<KeysViewHDF5 ['X_test', 'X_train', 'X_val', 'y_test', 'y_train', 'y_val']>"
      ]
     },
     "execution_count": 7,
     "metadata": {
      "tags": []
     },
     "output_type": "execute_result"
    }
   ],
   "source": [
    "h5f.keys()"
   ]
  },
  {
   "cell_type": "code",
   "execution_count": 8,
   "metadata": {
    "colab": {},
    "colab_type": "code",
    "id": "assnWx_mkxz_"
   },
   "outputs": [],
   "source": [
    "#Load train and test datasets\n",
    "X_train = h5f['X_train'][:]\n",
    "y_train = h5f['y_train'][:]\n",
    "X_test = h5f['X_test'][:]\n",
    "y_test = h5f['y_test'][:]\n",
    "X_val = h5f['X_val'][:]\n",
    "y_val = h5f['y_val'][:]\n",
    "h5f.close()"
   ]
  },
  {
   "cell_type": "code",
   "execution_count": 9,
   "metadata": {
    "colab": {
     "base_uri": "https://localhost:8080/",
     "height": 69
    },
    "colab_type": "code",
    "id": "9gCPHJTeqSOF",
    "outputId": "b9091946-3e79-4e57-c35f-7022f8c95e29"
   },
   "outputs": [
    {
     "name": "stdout",
     "output_type": "stream",
     "text": [
      "Training data shape: (42000, 32, 32)\n",
      "Testing data shape: (18000, 32, 32)\n",
      "Validation data shape: (60000, 32, 32)\n"
     ]
    }
   ],
   "source": [
    "print('Training data shape:',X_train.shape)\n",
    "print('Testing data shape:',X_test.shape)\n",
    "print('Validation data shape:',X_val.shape)"
   ]
  },
  {
   "cell_type": "code",
   "execution_count": 10,
   "metadata": {
    "colab": {
     "base_uri": "https://localhost:8080/",
     "height": 69
    },
    "colab_type": "code",
    "id": "LApFvkz-vk4k",
    "outputId": "edc64411-6b14-43cc-a259-53a895dc3953"
   },
   "outputs": [
    {
     "name": "stdout",
     "output_type": "stream",
     "text": [
      "Training data type: X train -  float32 ,y train -  uint8\n",
      "Testing data type: X test -  float32 ,y test -  uint8\n",
      "Validation data type: X val -  float32 ,y val -  uint8\n"
     ]
    }
   ],
   "source": [
    "print('Training data type:','X train - ', X_train.dtype, ',y train - ', y_train.dtype)\n",
    "print('Testing data type:','X test - ', X_test.dtype, ',y test - ', y_test.dtype)\n",
    "print('Validation data type:','X val - ', X_val.dtype, ',y val - ', y_val.dtype)"
   ]
  },
  {
   "cell_type": "code",
   "execution_count": 11,
   "metadata": {
    "colab": {
     "base_uri": "https://localhost:8080/",
     "height": 283
    },
    "colab_type": "code",
    "id": "btjSv515VGfb",
    "outputId": "89111e3b-f0e2-4247-e164-99046666d985"
   },
   "outputs": [
    {
     "data": {
      "image/png": "[encoded data removed]",
      "text/plain": [
       "<Figure size 432x288 with 1 Axes>"
      ]
     },
     "metadata": {
      "needs_background": "light",
      "tags": []
     },
     "output_type": "display_data"
    },
    {
     "name": "stdout",
     "output_type": "stream",
     "text": [
      "Label:  2\n"
     ]
    }
   ],
   "source": [
    "# Show image in train the dataset\n",
    "plt.imshow(X_train[0],cmap='gray')    \n",
    "plt.show()\n",
    "print('Label: ', y_train[0])"
   ]
  },
  {
   "cell_type": "code",
   "execution_count": 12,
   "metadata": {
    "colab": {
     "base_uri": "https://localhost:8080/",
     "height": 283
    },
    "colab_type": "code",
    "id": "xopw7HKdVtas",
    "outputId": "63cb20f7-2aaf-4836-9e75-340a73b57c43"
   },
   "outputs": [
    {
     "data": {
      "image/png": "[encoded data removed]",
      "text/plain": [
       "<Figure size 432x288 with 1 Axes>"
      ]
     },
     "metadata": {
      "needs_background": "light",
      "tags": []
     },
     "output_type": "display_data"
    },
    {
     "name": "stdout",
     "output_type": "stream",
     "text": [
      "Label:  1\n"
     ]
    }
   ],
   "source": [
    "# Show image in train the dataset\n",
    "plt.imshow(X_test[0],cmap='gray')    \n",
    "plt.show()\n",
    "print('Label: ', y_test[0])"
   ]
  },
  {
   "cell_type": "code",
   "execution_count": 13,
   "metadata": {
    "colab": {
     "base_uri": "https://localhost:8080/",
     "height": 399
    },
    "colab_type": "code",
    "id": "rKuc0XEke9Vl",
    "outputId": "c124d46e-0b46-4185-e4ae-6232177199d6"
   },
   "outputs": [
    {
     "data": {
      "text/plain": [
       "<function matplotlib.pyplot.show>"
      ]
     },
     "execution_count": 13,
     "metadata": {
      "tags": []
     },
     "output_type": "execute_result"
    },
    {
     "data": {
      "image/png": "[encoded data removed]",
      "text/plain": [
       "<Figure size 1224x360 with 2 Axes>"
      ]
     },
     "metadata": {
      "needs_background": "light",
      "tags": []
     },
     "output_type": "display_data"
    }
   ],
   "source": [
    "fig, (ax1, ax2) = plt.subplots(1, 2,figsize=(17,5))\n",
    "\n",
    "fig.suptitle('Class Distribution', fontsize=14, fontweight='bold', y=1.05)\n",
    "\n",
    "ax1.hist(y_train, bins=10)\n",
    "ax1.set_title(\"Training set\")\n",
    "ax1.set_xlim(1, 10)\n",
    "\n",
    "ax2.hist(y_test, color='g', bins=10)\n",
    "ax2.set_title(\"Test set\")\n",
    "ax2.set_xlim(0, 10)\n",
    "\n",
    "plt.show"
   ]
  },
  {
   "cell_type": "code",
   "execution_count": 14,
   "metadata": {
    "colab": {
     "base_uri": "https://localhost:8080/",
     "height": 52
    },
    "colab_type": "code",
    "id": "txrjzpbYhlTc",
    "outputId": "492e376e-32cf-499d-fb5a-14741f7b065f"
   },
   "outputs": [
    {
     "name": "stdout",
     "output_type": "stream",
     "text": [
      "[0 1 2 3 4 5 6 7 8 9]\n",
      "[0 1 2 3 4 5 6 7 8 9]\n"
     ]
    }
   ],
   "source": [
    "print(np.unique(y_train))\n",
    "print(np.unique(y_test))"
   ]
  },
  {
   "cell_type": "code",
   "execution_count": 15,
   "metadata": {
    "colab": {},
    "colab_type": "code",
    "id": "BzLWrPdHhsyI"
   },
   "outputs": [],
   "source": [
    "#Normalizing the data\n",
    "X_train_mean = np.mean(X_train, axis=0)\n",
    "X_train_std = np.std(X_train, axis=0)\n",
    "X_train_norm = (X_train-X_train_mean)/X_train_std\n",
    "X_test_mean = np.mean(X_test, axis=0)\n",
    "X_test_std = np.std(X_test, axis=0)\n",
    "X_test_norm = (X_test-X_test_mean)/X_test_std"
   ]
  },
  {
   "cell_type": "code",
   "execution_count": 16,
   "metadata": {
    "colab": {
     "base_uri": "https://localhost:8080/",
     "height": 283
    },
    "colab_type": "code",
    "id": "tEbTclW_mD0v",
    "outputId": "91d7235b-3b99-4962-ed49-fb3fa5e4f675"
   },
   "outputs": [
    {
     "data": {
      "image/png": "[encoded data removed]",
      "text/plain": [
       "<Figure size 432x288 with 1 Axes>"
      ]
     },
     "metadata": {
      "needs_background": "light",
      "tags": []
     },
     "output_type": "display_data"
    },
    {
     "name": "stdout",
     "output_type": "stream",
     "text": [
      "Label:  2\n"
     ]
    }
   ],
   "source": [
    "# Printing the first image after normalization\n",
    "plt.imshow(X_train_norm[0],cmap='gray')    \n",
    "plt.show()\n",
    "print('Label: ', y_train[0])"
   ]
  },
  {
   "cell_type": "code",
   "execution_count": 17,
   "metadata": {
    "colab": {},
    "colab_type": "code",
    "id": "vpSCoqzMW7uz"
   },
   "outputs": [],
   "source": [
    "#Reshape data from 2D to 1D -> 32X32 to 1024\n",
    "X_train = np.asarray(X_train).reshape(42000,1024)\n",
    "X_test = np.asarray(X_test).reshape(18000,1024)"
   ]
  },
  {
   "cell_type": "code",
   "execution_count": 18,
   "metadata": {
    "colab": {
     "base_uri": "https://localhost:8080/",
     "height": 52
    },
    "colab_type": "code",
    "id": "DLUSR6WRXBLv",
    "outputId": "c916fe08-dc84-4d54-f02b-42c02cd4216a"
   },
   "outputs": [
    {
     "name": "stdout",
     "output_type": "stream",
     "text": [
      "Training data shape: (42000, 1024)\n",
      "Testing data shape: (18000, 1024)\n"
     ]
    }
   ],
   "source": [
    "print('Training data shape:',X_train.shape)\n",
    "print('Testing data shape:',X_test.shape)"
   ]
  },
  {
   "cell_type": "code",
   "execution_count": 19,
   "metadata": {
    "colab": {
     "base_uri": "https://localhost:8080/",
     "height": 52
    },
    "colab_type": "code",
    "id": "EEMXP_E3nVkE",
    "outputId": "f94fcdb3-f914-4058-8daf-1e3b7dd145f6"
   },
   "outputs": [
    {
     "name": "stdout",
     "output_type": "stream",
     "text": [
      "Training set (42000, 10)\n",
      "Test set (18000, 10)\n"
     ]
    }
   ],
   "source": [
    "from sklearn.preprocessing import OneHotEncoder\n",
    " \n",
    "# Fit the OneHotEncoder\n",
    "enc = OneHotEncoder().fit(y_train.reshape(-1, 1))\n",
    "\n",
    "# Transform the label values to a one-hot-encoding scheme\n",
    "y_train = enc.transform(y_train.reshape(-1, 1)).toarray()\n",
    "y_test = enc.transform(y_test.reshape(-1, 1)).toarray()\n",
    "\n",
    "print(\"Training set\", y_train.shape)\n",
    "print(\"Test set\", y_test.shape)"
   ]
  },
  {
   "cell_type": "markdown",
   "metadata": {
    "colab_type": "text",
    "id": "wg8RCDl0omaS"
   },
   "source": [
    "**Implementing Neural Network**\n"
   ]
  },
  {
   "cell_type": "code",
   "execution_count": 20,
   "metadata": {
    "colab": {},
    "colab_type": "code",
    "id": "qYkxDsSfo4lN"
   },
   "outputs": [],
   "source": [
    "from keras.models import Sequential\n",
    "from keras.layers import Activation, Dense, BatchNormalization, Flatten\n",
    "from keras import optimizers\n",
    "import tensorflow as tf"
   ]
  },
  {
   "cell_type": "code",
   "execution_count": 21,
   "metadata": {
    "colab": {},
    "colab_type": "code",
    "id": "uW549qL4n1CZ"
   },
   "outputs": [],
   "source": [
    "##Initialize the Artificial Neural Network Classifier\n",
    "keras_model = Sequential()"
   ]
  },
  {
   "cell_type": "code",
   "execution_count": 22,
   "metadata": {
    "colab": {},
    "colab_type": "code",
    "id": "Db7WHbR0vSAU"
   },
   "outputs": [],
   "source": [
    "# Input Layer\n",
    "#Adding flatten layer \n",
    "keras_model.add(Flatten())\n",
    "\n",
    "#Adding Input layer and activation functions ReLU\n",
    "keras_model.add(Dense(512, kernel_initializer='he_normal',input_shape = (1024, )))\n",
    "#Adding Activation function\n",
    "keras_model.add(Activation('relu'))\n",
    "\n",
    "# Output Layer\n",
    "#Adding output layer which is of 10 nodes (digits)\n",
    "keras_model.add(Dense(10))\n",
    "#Adding Activation function\n",
    "# Here, we are using softmax function because we have multiclass classsification\n",
    "keras_model.add(Activation('softmax'))"
   ]
  },
  {
   "cell_type": "markdown",
   "metadata": {
    "colab_type": "text",
    "id": "r4dtWW7v1nBe"
   },
   "source": [
    "**Fixing Learning rate for ADAM optimizer as 0.0001 and the number of \n",
    "epochs as 100.**\n"
   ]
  },
  {
   "cell_type": "code",
   "execution_count": 23,
   "metadata": {
    "colab": {
     "base_uri": "https://localhost:8080/",
     "height": 1000
    },
    "colab_type": "code",
    "id": "cOljqCf61pob",
    "outputId": "2a911523-59f3-4f23-fdfc-b23942b48ece"
   },
   "outputs": [
    {
     "name": "stdout",
     "output_type": "stream",
     "text": [
      "Epoch 1/100\n",
      "210/210 [==============================] - 3s 17ms/step - loss: 1.9650 - accuracy: 0.3499 - val_loss: 1.5706 - val_accuracy: 0.5344\n",
      "Epoch 2/100\n",
      "210/210 [==============================] - 3s 16ms/step - loss: 1.3644 - accuracy: 0.6121 - val_loss: 1.2251 - val_accuracy: 0.6582\n",
      "Epoch 3/100\n",
      "210/210 [==============================] - 3s 13ms/step - loss: 1.1215 - accuracy: 0.6897 - val_loss: 1.0621 - val_accuracy: 0.7044\n",
      "Epoch 4/100\n",
      "210/210 [==============================] - 3s 13ms/step - loss: 0.9935 - accuracy: 0.7255 - val_loss: 0.9750 - val_accuracy: 0.7248\n",
      "Epoch 5/100\n",
      "210/210 [==============================] - 3s 13ms/step - loss: 0.9085 - accuracy: 0.7471 - val_loss: 0.9139 - val_accuracy: 0.7398\n",
      "Epoch 6/100\n",
      "210/210 [==============================] - 3s 13ms/step - loss: 0.8412 - accuracy: 0.7666 - val_loss: 0.8652 - val_accuracy: 0.7524\n",
      "Epoch 7/100\n",
      "210/210 [==============================] - 3s 13ms/step - loss: 0.7912 - accuracy: 0.7805 - val_loss: 0.8304 - val_accuracy: 0.7612\n",
      "Epoch 8/100\n",
      "210/210 [==============================] - 3s 13ms/step - loss: 0.7484 - accuracy: 0.7936 - val_loss: 0.7907 - val_accuracy: 0.7760\n",
      "Epoch 9/100\n",
      "210/210 [==============================] - 3s 13ms/step - loss: 0.7122 - accuracy: 0.8031 - val_loss: 0.7631 - val_accuracy: 0.7854\n",
      "Epoch 10/100\n",
      "210/210 [==============================] - 3s 13ms/step - loss: 0.6788 - accuracy: 0.8129 - val_loss: 0.7454 - val_accuracy: 0.7908\n",
      "Epoch 11/100\n",
      "210/210 [==============================] - 3s 13ms/step - loss: 0.6521 - accuracy: 0.8206 - val_loss: 0.7240 - val_accuracy: 0.7961\n",
      "Epoch 12/100\n",
      "210/210 [==============================] - 3s 12ms/step - loss: 0.6277 - accuracy: 0.8278 - val_loss: 0.7079 - val_accuracy: 0.8011\n",
      "Epoch 13/100\n",
      "210/210 [==============================] - 3s 13ms/step - loss: 0.6040 - accuracy: 0.8344 - val_loss: 0.6885 - val_accuracy: 0.8085\n",
      "Epoch 14/100\n",
      "210/210 [==============================] - 3s 13ms/step - loss: 0.5837 - accuracy: 0.8385 - val_loss: 0.6719 - val_accuracy: 0.8119\n",
      "Epoch 15/100\n",
      "210/210 [==============================] - 3s 13ms/step - loss: 0.5646 - accuracy: 0.8459 - val_loss: 0.6592 - val_accuracy: 0.8168\n",
      "Epoch 16/100\n",
      "210/210 [==============================] - 3s 12ms/step - loss: 0.5478 - accuracy: 0.8508 - val_loss: 0.6642 - val_accuracy: 0.8125\n",
      "Epoch 17/100\n",
      "210/210 [==============================] - 3s 12ms/step - loss: 0.5318 - accuracy: 0.8556 - val_loss: 0.6430 - val_accuracy: 0.8187\n",
      "Epoch 18/100\n",
      "210/210 [==============================] - 3s 13ms/step - loss: 0.5161 - accuracy: 0.8597 - val_loss: 0.6334 - val_accuracy: 0.8229\n",
      "Epoch 19/100\n",
      "210/210 [==============================] - 3s 13ms/step - loss: 0.5013 - accuracy: 0.8646 - val_loss: 0.6231 - val_accuracy: 0.8257\n",
      "Epoch 20/100\n",
      "210/210 [==============================] - 3s 13ms/step - loss: 0.4886 - accuracy: 0.8681 - val_loss: 0.6171 - val_accuracy: 0.8282\n",
      "Epoch 21/100\n",
      "210/210 [==============================] - 3s 13ms/step - loss: 0.4774 - accuracy: 0.8704 - val_loss: 0.6098 - val_accuracy: 0.8299\n",
      "Epoch 22/100\n",
      "210/210 [==============================] - 3s 13ms/step - loss: 0.4660 - accuracy: 0.8738 - val_loss: 0.5976 - val_accuracy: 0.8336\n",
      "Epoch 23/100\n",
      "210/210 [==============================] - 3s 12ms/step - loss: 0.4533 - accuracy: 0.8779 - val_loss: 0.5960 - val_accuracy: 0.8338\n",
      "Epoch 24/100\n",
      "210/210 [==============================] - 3s 13ms/step - loss: 0.4423 - accuracy: 0.8810 - val_loss: 0.5917 - val_accuracy: 0.8352\n",
      "Epoch 25/100\n",
      "210/210 [==============================] - 3s 12ms/step - loss: 0.4353 - accuracy: 0.8841 - val_loss: 0.5832 - val_accuracy: 0.8373\n",
      "Epoch 26/100\n",
      "210/210 [==============================] - 3s 13ms/step - loss: 0.4249 - accuracy: 0.8870 - val_loss: 0.5837 - val_accuracy: 0.8363\n",
      "Epoch 27/100\n",
      "210/210 [==============================] - 3s 13ms/step - loss: 0.4164 - accuracy: 0.8883 - val_loss: 0.5792 - val_accuracy: 0.8381\n",
      "Epoch 28/100\n",
      "210/210 [==============================] - 3s 12ms/step - loss: 0.4061 - accuracy: 0.8918 - val_loss: 0.5664 - val_accuracy: 0.8428\n",
      "Epoch 29/100\n",
      "210/210 [==============================] - 3s 12ms/step - loss: 0.3985 - accuracy: 0.8938 - val_loss: 0.5819 - val_accuracy: 0.8337\n",
      "Epoch 30/100\n",
      "210/210 [==============================] - 3s 13ms/step - loss: 0.3908 - accuracy: 0.8960 - val_loss: 0.5672 - val_accuracy: 0.8437\n",
      "Epoch 31/100\n",
      "210/210 [==============================] - 3s 13ms/step - loss: 0.3849 - accuracy: 0.8979 - val_loss: 0.5643 - val_accuracy: 0.8427\n",
      "Epoch 32/100\n",
      "210/210 [==============================] - 3s 13ms/step - loss: 0.3759 - accuracy: 0.8989 - val_loss: 0.5581 - val_accuracy: 0.8454\n",
      "Epoch 33/100\n",
      "210/210 [==============================] - 3s 13ms/step - loss: 0.3699 - accuracy: 0.9020 - val_loss: 0.5542 - val_accuracy: 0.8452\n",
      "Epoch 34/100\n",
      "210/210 [==============================] - 3s 13ms/step - loss: 0.3622 - accuracy: 0.9048 - val_loss: 0.5562 - val_accuracy: 0.8473\n",
      "Epoch 35/100\n",
      "210/210 [==============================] - 3s 13ms/step - loss: 0.3572 - accuracy: 0.9060 - val_loss: 0.5481 - val_accuracy: 0.8465\n",
      "Epoch 36/100\n",
      "210/210 [==============================] - 3s 13ms/step - loss: 0.3515 - accuracy: 0.9077 - val_loss: 0.5483 - val_accuracy: 0.8479\n",
      "Epoch 37/100\n",
      "210/210 [==============================] - 3s 13ms/step - loss: 0.3443 - accuracy: 0.9099 - val_loss: 0.5518 - val_accuracy: 0.8467\n",
      "Epoch 38/100\n",
      "210/210 [==============================] - 3s 13ms/step - loss: 0.3381 - accuracy: 0.9126 - val_loss: 0.5469 - val_accuracy: 0.8489\n",
      "Epoch 39/100\n",
      "210/210 [==============================] - 3s 13ms/step - loss: 0.3352 - accuracy: 0.9118 - val_loss: 0.5374 - val_accuracy: 0.8509\n",
      "Epoch 40/100\n",
      "210/210 [==============================] - 3s 13ms/step - loss: 0.3282 - accuracy: 0.9143 - val_loss: 0.5460 - val_accuracy: 0.8487\n",
      "Epoch 41/100\n",
      "210/210 [==============================] - 3s 13ms/step - loss: 0.3229 - accuracy: 0.9158 - val_loss: 0.5387 - val_accuracy: 0.8502\n",
      "Epoch 42/100\n",
      "210/210 [==============================] - 3s 13ms/step - loss: 0.3166 - accuracy: 0.9186 - val_loss: 0.5366 - val_accuracy: 0.8518\n",
      "Epoch 43/100\n",
      "210/210 [==============================] - 3s 13ms/step - loss: 0.3129 - accuracy: 0.9186 - val_loss: 0.5399 - val_accuracy: 0.8503\n",
      "Epoch 44/100\n",
      "210/210 [==============================] - 3s 13ms/step - loss: 0.3070 - accuracy: 0.9206 - val_loss: 0.5442 - val_accuracy: 0.8481\n",
      "Epoch 45/100\n",
      "210/210 [==============================] - 3s 13ms/step - loss: 0.3027 - accuracy: 0.9225 - val_loss: 0.5372 - val_accuracy: 0.8518\n",
      "Epoch 46/100\n",
      "210/210 [==============================] - 3s 13ms/step - loss: 0.2973 - accuracy: 0.9239 - val_loss: 0.5345 - val_accuracy: 0.8521\n",
      "Epoch 47/100\n",
      "210/210 [==============================] - 3s 13ms/step - loss: 0.2924 - accuracy: 0.9254 - val_loss: 0.5331 - val_accuracy: 0.8526\n",
      "Epoch 48/100\n",
      "210/210 [==============================] - 3s 13ms/step - loss: 0.2888 - accuracy: 0.9262 - val_loss: 0.5333 - val_accuracy: 0.8512\n",
      "Epoch 49/100\n",
      "210/210 [==============================] - 3s 13ms/step - loss: 0.2833 - accuracy: 0.9283 - val_loss: 0.5397 - val_accuracy: 0.8526\n",
      "Epoch 50/100\n",
      "210/210 [==============================] - 3s 13ms/step - loss: 0.2802 - accuracy: 0.9286 - val_loss: 0.5307 - val_accuracy: 0.8535\n",
      "Epoch 51/100\n",
      "210/210 [==============================] - 3s 13ms/step - loss: 0.2761 - accuracy: 0.9296 - val_loss: 0.5319 - val_accuracy: 0.8534\n",
      "Epoch 52/100\n",
      "210/210 [==============================] - 3s 13ms/step - loss: 0.2722 - accuracy: 0.9309 - val_loss: 0.5360 - val_accuracy: 0.8509\n",
      "Epoch 53/100\n",
      "210/210 [==============================] - 3s 13ms/step - loss: 0.2699 - accuracy: 0.9308 - val_loss: 0.5315 - val_accuracy: 0.8537\n",
      "Epoch 54/100\n",
      "210/210 [==============================] - 3s 13ms/step - loss: 0.2646 - accuracy: 0.9332 - val_loss: 0.5333 - val_accuracy: 0.8538\n",
      "Epoch 55/100\n",
      "210/210 [==============================] - 3s 13ms/step - loss: 0.2627 - accuracy: 0.9337 - val_loss: 0.5300 - val_accuracy: 0.8571\n",
      "Epoch 56/100\n",
      "210/210 [==============================] - 3s 13ms/step - loss: 0.2569 - accuracy: 0.9354 - val_loss: 0.5337 - val_accuracy: 0.8554\n",
      "Epoch 57/100\n",
      "210/210 [==============================] - 3s 13ms/step - loss: 0.2573 - accuracy: 0.9349 - val_loss: 0.5323 - val_accuracy: 0.8564\n",
      "Epoch 58/100\n",
      "210/210 [==============================] - 3s 13ms/step - loss: 0.2517 - accuracy: 0.9368 - val_loss: 0.5354 - val_accuracy: 0.8552\n",
      "Epoch 59/100\n",
      "210/210 [==============================] - 3s 13ms/step - loss: 0.2462 - accuracy: 0.9390 - val_loss: 0.5287 - val_accuracy: 0.8586\n",
      "Epoch 60/100\n",
      "210/210 [==============================] - 3s 13ms/step - loss: 0.2434 - accuracy: 0.9399 - val_loss: 0.5326 - val_accuracy: 0.8552\n",
      "Epoch 61/100\n",
      "210/210 [==============================] - 3s 13ms/step - loss: 0.2404 - accuracy: 0.9409 - val_loss: 0.5356 - val_accuracy: 0.8553\n",
      "Epoch 62/100\n",
      "210/210 [==============================] - 3s 13ms/step - loss: 0.2385 - accuracy: 0.9406 - val_loss: 0.5274 - val_accuracy: 0.8564\n",
      "Epoch 63/100\n",
      "210/210 [==============================] - 3s 13ms/step - loss: 0.2354 - accuracy: 0.9417 - val_loss: 0.5301 - val_accuracy: 0.8585\n",
      "Epoch 64/100\n",
      "210/210 [==============================] - 3s 13ms/step - loss: 0.2319 - accuracy: 0.9430 - val_loss: 0.5312 - val_accuracy: 0.8587\n",
      "Epoch 65/100\n",
      "210/210 [==============================] - 3s 13ms/step - loss: 0.2306 - accuracy: 0.9434 - val_loss: 0.5351 - val_accuracy: 0.8582\n",
      "Epoch 66/100\n",
      "210/210 [==============================] - 3s 13ms/step - loss: 0.2244 - accuracy: 0.9454 - val_loss: 0.5336 - val_accuracy: 0.8591\n",
      "Epoch 67/100\n",
      "210/210 [==============================] - 3s 13ms/step - loss: 0.2220 - accuracy: 0.9453 - val_loss: 0.5279 - val_accuracy: 0.8595\n",
      "Epoch 68/100\n",
      "210/210 [==============================] - 3s 13ms/step - loss: 0.2195 - accuracy: 0.9463 - val_loss: 0.5345 - val_accuracy: 0.8588\n",
      "Epoch 69/100\n",
      "210/210 [==============================] - 3s 13ms/step - loss: 0.2176 - accuracy: 0.9477 - val_loss: 0.5319 - val_accuracy: 0.8584\n",
      "Epoch 70/100\n",
      "210/210 [==============================] - 3s 13ms/step - loss: 0.2139 - accuracy: 0.9485 - val_loss: 0.5353 - val_accuracy: 0.8593\n",
      "Epoch 71/100\n",
      "210/210 [==============================] - 3s 13ms/step - loss: 0.2138 - accuracy: 0.9473 - val_loss: 0.5331 - val_accuracy: 0.8591\n",
      "Epoch 72/100\n",
      "210/210 [==============================] - 3s 13ms/step - loss: 0.2091 - accuracy: 0.9498 - val_loss: 0.5299 - val_accuracy: 0.8600\n",
      "Epoch 73/100\n",
      "210/210 [==============================] - 3s 13ms/step - loss: 0.2072 - accuracy: 0.9496 - val_loss: 0.5338 - val_accuracy: 0.8587\n",
      "Epoch 74/100\n",
      "210/210 [==============================] - 3s 13ms/step - loss: 0.2038 - accuracy: 0.9520 - val_loss: 0.5431 - val_accuracy: 0.8570\n",
      "Epoch 75/100\n",
      "210/210 [==============================] - 3s 13ms/step - loss: 0.2020 - accuracy: 0.9511 - val_loss: 0.5322 - val_accuracy: 0.8590\n",
      "Epoch 76/100\n",
      "210/210 [==============================] - 3s 13ms/step - loss: 0.1975 - accuracy: 0.9532 - val_loss: 0.5410 - val_accuracy: 0.8574\n",
      "Epoch 77/100\n",
      "210/210 [==============================] - 3s 13ms/step - loss: 0.1991 - accuracy: 0.9512 - val_loss: 0.5427 - val_accuracy: 0.8568\n",
      "Epoch 78/100\n",
      "210/210 [==============================] - 3s 13ms/step - loss: 0.1947 - accuracy: 0.9536 - val_loss: 0.5392 - val_accuracy: 0.8589\n",
      "Epoch 79/100\n",
      "210/210 [==============================] - 3s 13ms/step - loss: 0.1913 - accuracy: 0.9552 - val_loss: 0.5359 - val_accuracy: 0.8613\n",
      "Epoch 80/100\n",
      "210/210 [==============================] - 3s 13ms/step - loss: 0.1890 - accuracy: 0.9557 - val_loss: 0.5369 - val_accuracy: 0.8591\n",
      "Epoch 81/100\n",
      "210/210 [==============================] - 3s 13ms/step - loss: 0.1884 - accuracy: 0.9551 - val_loss: 0.5555 - val_accuracy: 0.8549\n",
      "Epoch 82/100\n",
      "210/210 [==============================] - 3s 13ms/step - loss: 0.1858 - accuracy: 0.9558 - val_loss: 0.5584 - val_accuracy: 0.8522\n",
      "Epoch 83/100\n",
      "210/210 [==============================] - 3s 13ms/step - loss: 0.1826 - accuracy: 0.9580 - val_loss: 0.5398 - val_accuracy: 0.8599\n",
      "Epoch 84/100\n",
      "210/210 [==============================] - 3s 13ms/step - loss: 0.1800 - accuracy: 0.9578 - val_loss: 0.5497 - val_accuracy: 0.8579\n",
      "Epoch 85/100\n",
      "210/210 [==============================] - 3s 13ms/step - loss: 0.1783 - accuracy: 0.9580 - val_loss: 0.5434 - val_accuracy: 0.8594\n",
      "Epoch 86/100\n",
      "210/210 [==============================] - 3s 13ms/step - loss: 0.1751 - accuracy: 0.9601 - val_loss: 0.5584 - val_accuracy: 0.8558\n",
      "Epoch 87/100\n",
      "210/210 [==============================] - 3s 13ms/step - loss: 0.1746 - accuracy: 0.9595 - val_loss: 0.5499 - val_accuracy: 0.8593\n",
      "Epoch 88/100\n",
      "210/210 [==============================] - 3s 13ms/step - loss: 0.1727 - accuracy: 0.9594 - val_loss: 0.5545 - val_accuracy: 0.8573\n",
      "Epoch 89/100\n",
      "210/210 [==============================] - 3s 13ms/step - loss: 0.1710 - accuracy: 0.9600 - val_loss: 0.5601 - val_accuracy: 0.8573\n",
      "Epoch 90/100\n",
      "210/210 [==============================] - 3s 13ms/step - loss: 0.1703 - accuracy: 0.9604 - val_loss: 0.5482 - val_accuracy: 0.8577\n",
      "Epoch 91/100\n",
      "210/210 [==============================] - 3s 13ms/step - loss: 0.1684 - accuracy: 0.9612 - val_loss: 0.5507 - val_accuracy: 0.8614\n",
      "Epoch 92/100\n",
      "210/210 [==============================] - 3s 13ms/step - loss: 0.1642 - accuracy: 0.9616 - val_loss: 0.5607 - val_accuracy: 0.8563\n",
      "Epoch 93/100\n",
      "210/210 [==============================] - 3s 13ms/step - loss: 0.1631 - accuracy: 0.9634 - val_loss: 0.5478 - val_accuracy: 0.8619\n",
      "Epoch 94/100\n",
      "210/210 [==============================] - 3s 13ms/step - loss: 0.1635 - accuracy: 0.9619 - val_loss: 0.5571 - val_accuracy: 0.8579\n",
      "Epoch 95/100\n",
      "210/210 [==============================] - 3s 13ms/step - loss: 0.1590 - accuracy: 0.9635 - val_loss: 0.5637 - val_accuracy: 0.8579\n",
      "Epoch 96/100\n",
      "210/210 [==============================] - 3s 13ms/step - loss: 0.1577 - accuracy: 0.9637 - val_loss: 0.5575 - val_accuracy: 0.8595\n",
      "Epoch 97/100\n",
      "210/210 [==============================] - 3s 13ms/step - loss: 0.1551 - accuracy: 0.9645 - val_loss: 0.5614 - val_accuracy: 0.8582\n",
      "Epoch 98/100\n",
      "210/210 [==============================] - 3s 13ms/step - loss: 0.1525 - accuracy: 0.9658 - val_loss: 0.5553 - val_accuracy: 0.8608\n",
      "Epoch 99/100\n",
      "210/210 [==============================] - 3s 14ms/step - loss: 0.1524 - accuracy: 0.9652 - val_loss: 0.5639 - val_accuracy: 0.8592\n",
      "Epoch 100/100\n",
      "210/210 [==============================] - 3s 14ms/step - loss: 0.1486 - accuracy: 0.9672 - val_loss: 0.5635 - val_accuracy: 0.8591\n"
     ]
    }
   ],
   "source": [
    "adam = optimizers.Adam(lr = 0.0001)\n",
    "# Compiling again\n",
    "keras_model.compile(optimizer = adam, loss = 'categorical_crossentropy', metrics = ['accuracy'])\n",
    "# Fitting the ANN to the Training data\n",
    "history = keras_model.fit(X_train_norm, y_train,validation_data=(X_test_norm,y_test),batch_size = 200, epochs = 100, verbose = 1)"
   ]
  },
  {
   "cell_type": "code",
   "execution_count": 24,
   "metadata": {
    "colab": {
     "base_uri": "https://localhost:8080/",
     "height": 329
    },
    "colab_type": "code",
    "id": "JVAqLPT-13vU",
    "outputId": "1f5dbd4e-e5f6-4947-d3d1-3ef7bf0614c2"
   },
   "outputs": [
    {
     "name": "stdout",
     "output_type": "stream",
     "text": [
      "Model: \"sequential\"\n",
      "_________________________________________________________________\n",
      "Layer (type)                 Output Shape              Param #   \n",
      "=================================================================\n",
      "flatten (Flatten)            (200, 1024)               0         \n",
      "_________________________________________________________________\n",
      "dense (Dense)                (200, 512)                524800    \n",
      "_________________________________________________________________\n",
      "activation (Activation)      (200, 512)                0         \n",
      "_________________________________________________________________\n",
      "dense_1 (Dense)              (200, 10)                 5130      \n",
      "_________________________________________________________________\n",
      "activation_1 (Activation)    (200, 10)                 0         \n",
      "=================================================================\n",
      "Total params: 529,930\n",
      "Trainable params: 529,930\n",
      "Non-trainable params: 0\n",
      "_________________________________________________________________\n"
     ]
    }
   ],
   "source": [
    "keras_model.summary()"
   ]
  },
  {
   "cell_type": "markdown",
   "metadata": {
    "colab_type": "text",
    "id": "sxnslhrJ6MZd"
   },
   "source": [
    "We have a accuracy of 96.60% with the training dataset. Now we can check the results with the testing dataset."
   ]
  },
  {
   "cell_type": "code",
   "execution_count": 25,
   "metadata": {
    "colab": {
     "base_uri": "https://localhost:8080/",
     "height": 69
    },
    "colab_type": "code",
    "id": "qmhOL8uw6LHf",
    "outputId": "78d8fe99-6396-4106-d687-3e6c54f1e2fd"
   },
   "outputs": [
    {
     "name": "stdout",
     "output_type": "stream",
     "text": [
      "563/563 [==============================] - 1s 3ms/step - loss: 0.5635 - accuracy: 0.8591\n",
      "Test accuracy :  0.8590555787086487\n",
      "Test Loss :  0.563546359539032\n"
     ]
    }
   ],
   "source": [
    "results = keras_model.evaluate(X_test_norm, y_test)\n",
    "print('Test accuracy : ', results[1])\n",
    "print('Test Loss : ', results[0])"
   ]
  },
  {
   "cell_type": "markdown",
   "metadata": {
    "colab_type": "text",
    "id": "Bm7RX-XkARmC"
   },
   "source": [
    "The test accuracy of the model is 0.8569 with the Adam optimizer with a loss of 0.5677. This can be further increased by introducing new layers along with Batch normalization, dropuouts etc.."
   ]
  }
 ],
 "metadata": {
  "colab": {
   "collapsed_sections": [],
   "name": "Neural network Project - Manojkumar Sivaraman.ipynb",
   "provenance": []
  },
  "kernelspec": {
   "display_name": "Python 3",
   "language": "python",
   "name": "python3"
  },
  "language_info": {
   "codemirror_mode": {
    "name": "ipython",
    "version": 3
   },
   "file_extension": ".py",
   "mimetype": "text/x-python",
   "name": "python",
   "nbconvert_exporter": "python",
   "pygments_lexer": "ipython3",
   "version": "3.7.4"
  }
 },
 "nbformat": 4,
 "nbformat_minor": 1
}
